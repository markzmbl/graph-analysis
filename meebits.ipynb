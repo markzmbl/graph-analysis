{
 "cells": [
  {
   "metadata": {
    "ExecuteTime": {
     "end_time": "2025-04-24T16:14:07.956294Z",
     "start_time": "2025-04-24T16:14:07.954138Z"
    }
   },
   "cell_type": "code",
   "source": [
    "import json\n",
    "from functools import partial\n",
    "\n",
    "import networkx as nx\n",
    "import pandas as pd\n",
    "from networkx.readwrite.json_graph import node_link_graph\n",
    "import matplotlib.pyplot as plt"
   ],
   "id": "9a30e7ad284a6346",
   "outputs": [],
   "execution_count": 7
  },
  {
   "metadata": {
    "ExecuteTime": {
     "end_time": "2025-04-24T16:14:08.020869Z",
     "start_time": "2025-04-24T16:14:07.971045Z"
    }
   },
   "cell_type": "code",
   "source": [
    "df = pd.read_csv('log_cycles.csv', sep=\";\")\n",
    "df[\"bundled_cycle\"] = df[\"bundled_cycle\"].apply(json.loads).apply(partial(node_link_graph, edges=\"edges\"))\n"
   ],
   "id": "5aab0c62d6c5916d",
   "outputs": [],
   "execution_count": 8
  },
  {
   "metadata": {
    "ExecuteTime": {
     "end_time": "2025-04-24T16:14:08.027905Z",
     "start_time": "2025-04-24T16:14:08.026277Z"
    }
   },
   "cell_type": "code",
   "source": "",
   "id": "bc5ff36f47b67eff",
   "outputs": [],
   "execution_count": null
  },
  {
   "metadata": {
    "ExecuteTime": {
     "end_time": "2025-04-24T16:14:08.041231Z",
     "start_time": "2025-04-24T16:14:08.033290Z"
    }
   },
   "cell_type": "code",
   "source": [
    "df[\"m\"] = df[\"bundled_cycle\"].apply(lambda x: x.number_of_edges())\n",
    "df[\"n\"] = df[\"bundled_cycle\"].apply(lambda x: x.number_of_nodes())"
   ],
   "id": "21b1200a79cd3f3c",
   "outputs": [],
   "execution_count": 9
  },
  {
   "metadata": {
    "ExecuteTime": {
     "end_time": "2025-04-24T16:14:08.060256Z",
     "start_time": "2025-04-24T16:14:08.057933Z"
    }
   },
   "cell_type": "code",
   "source": [
    "# for i, row in df[df[\"m\"] > df[\"n\"]].iterrows():\n",
    "for i, row in df[df[\"n\"] > 2].iterrows():\n",
    "    print(nx.draw_networkx(row[\"bundled_cycle\"]))\n",
    "    plt.show()\n",
    "    plt.clf()"
   ],
   "id": "f0f03c85aafe8e53",
   "outputs": [],
   "execution_count": 10
  },
  {
   "metadata": {
    "ExecuteTime": {
     "end_time": "2025-04-24T16:14:08.075770Z",
     "start_time": "2025-04-24T16:14:08.070218Z"
    }
   },
   "cell_type": "code",
   "source": "df",
   "id": "66ce8a799e9f440",
   "outputs": [
    {
     "data": {
      "text/plain": [
       "      seed_begin  seed_end  next_seed_begin              candidates  \\\n",
       "0       13330106  13330115              NaN    [5421825, 130938579]   \n",
       "1       13330113  13330119              NaN    [100786317, 2414159]   \n",
       "2       13330124  13330129              NaN   [163292739, 73538691]   \n",
       "3       13330144  13330150              NaN  [154240280, 145088543]   \n",
       "4       13330146  13330153              NaN    [154090641, 7858228]   \n",
       "...          ...       ...              ...                     ...   \n",
       "2338    13368985  13368990              NaN   [107251160, 40120294]   \n",
       "2339    13368990  13368996              NaN    [149606252, 4118956]   \n",
       "2340    13369003  13369007              NaN   [169285739, 40120294]   \n",
       "2341    13369012  13369019              NaN    [58786225, 79800940]   \n",
       "2342    13369019  13369028              NaN    [2154331, 106844422]   \n",
       "\n",
       "               bundled_cycle  m  n  \n",
       "0       (130938579, 5421825)  2  2  \n",
       "1       (2414159, 100786317)  2  2  \n",
       "2      (73538691, 163292739)  2  2  \n",
       "3     (154240280, 145088543)  2  2  \n",
       "4       (154090641, 7858228)  2  2  \n",
       "...                      ... .. ..  \n",
       "2338   (107251160, 40120294)  2  2  \n",
       "2339    (4118956, 149606252)  2  2  \n",
       "2340   (169285739, 40120294)  2  2  \n",
       "2341    (79800940, 58786225)  2  2  \n",
       "2342    (106844422, 2154331)  2  2  \n",
       "\n",
       "[2343 rows x 7 columns]"
      ],
      "text/html": [
       "<div>\n",
       "<style scoped>\n",
       "    .dataframe tbody tr th:only-of-type {\n",
       "        vertical-align: middle;\n",
       "    }\n",
       "\n",
       "    .dataframe tbody tr th {\n",
       "        vertical-align: top;\n",
       "    }\n",
       "\n",
       "    .dataframe thead th {\n",
       "        text-align: right;\n",
       "    }\n",
       "</style>\n",
       "<table border=\"1\" class=\"dataframe\">\n",
       "  <thead>\n",
       "    <tr style=\"text-align: right;\">\n",
       "      <th></th>\n",
       "      <th>seed_begin</th>\n",
       "      <th>seed_end</th>\n",
       "      <th>next_seed_begin</th>\n",
       "      <th>candidates</th>\n",
       "      <th>bundled_cycle</th>\n",
       "      <th>m</th>\n",
       "      <th>n</th>\n",
       "    </tr>\n",
       "  </thead>\n",
       "  <tbody>\n",
       "    <tr>\n",
       "      <th>0</th>\n",
       "      <td>13330106</td>\n",
       "      <td>13330115</td>\n",
       "      <td>NaN</td>\n",
       "      <td>[5421825, 130938579]</td>\n",
       "      <td>(130938579, 5421825)</td>\n",
       "      <td>2</td>\n",
       "      <td>2</td>\n",
       "    </tr>\n",
       "    <tr>\n",
       "      <th>1</th>\n",
       "      <td>13330113</td>\n",
       "      <td>13330119</td>\n",
       "      <td>NaN</td>\n",
       "      <td>[100786317, 2414159]</td>\n",
       "      <td>(2414159, 100786317)</td>\n",
       "      <td>2</td>\n",
       "      <td>2</td>\n",
       "    </tr>\n",
       "    <tr>\n",
       "      <th>2</th>\n",
       "      <td>13330124</td>\n",
       "      <td>13330129</td>\n",
       "      <td>NaN</td>\n",
       "      <td>[163292739, 73538691]</td>\n",
       "      <td>(73538691, 163292739)</td>\n",
       "      <td>2</td>\n",
       "      <td>2</td>\n",
       "    </tr>\n",
       "    <tr>\n",
       "      <th>3</th>\n",
       "      <td>13330144</td>\n",
       "      <td>13330150</td>\n",
       "      <td>NaN</td>\n",
       "      <td>[154240280, 145088543]</td>\n",
       "      <td>(154240280, 145088543)</td>\n",
       "      <td>2</td>\n",
       "      <td>2</td>\n",
       "    </tr>\n",
       "    <tr>\n",
       "      <th>4</th>\n",
       "      <td>13330146</td>\n",
       "      <td>13330153</td>\n",
       "      <td>NaN</td>\n",
       "      <td>[154090641, 7858228]</td>\n",
       "      <td>(154090641, 7858228)</td>\n",
       "      <td>2</td>\n",
       "      <td>2</td>\n",
       "    </tr>\n",
       "    <tr>\n",
       "      <th>...</th>\n",
       "      <td>...</td>\n",
       "      <td>...</td>\n",
       "      <td>...</td>\n",
       "      <td>...</td>\n",
       "      <td>...</td>\n",
       "      <td>...</td>\n",
       "      <td>...</td>\n",
       "    </tr>\n",
       "    <tr>\n",
       "      <th>2338</th>\n",
       "      <td>13368985</td>\n",
       "      <td>13368990</td>\n",
       "      <td>NaN</td>\n",
       "      <td>[107251160, 40120294]</td>\n",
       "      <td>(107251160, 40120294)</td>\n",
       "      <td>2</td>\n",
       "      <td>2</td>\n",
       "    </tr>\n",
       "    <tr>\n",
       "      <th>2339</th>\n",
       "      <td>13368990</td>\n",
       "      <td>13368996</td>\n",
       "      <td>NaN</td>\n",
       "      <td>[149606252, 4118956]</td>\n",
       "      <td>(4118956, 149606252)</td>\n",
       "      <td>2</td>\n",
       "      <td>2</td>\n",
       "    </tr>\n",
       "    <tr>\n",
       "      <th>2340</th>\n",
       "      <td>13369003</td>\n",
       "      <td>13369007</td>\n",
       "      <td>NaN</td>\n",
       "      <td>[169285739, 40120294]</td>\n",
       "      <td>(169285739, 40120294)</td>\n",
       "      <td>2</td>\n",
       "      <td>2</td>\n",
       "    </tr>\n",
       "    <tr>\n",
       "      <th>2341</th>\n",
       "      <td>13369012</td>\n",
       "      <td>13369019</td>\n",
       "      <td>NaN</td>\n",
       "      <td>[58786225, 79800940]</td>\n",
       "      <td>(79800940, 58786225)</td>\n",
       "      <td>2</td>\n",
       "      <td>2</td>\n",
       "    </tr>\n",
       "    <tr>\n",
       "      <th>2342</th>\n",
       "      <td>13369019</td>\n",
       "      <td>13369028</td>\n",
       "      <td>NaN</td>\n",
       "      <td>[2154331, 106844422]</td>\n",
       "      <td>(106844422, 2154331)</td>\n",
       "      <td>2</td>\n",
       "      <td>2</td>\n",
       "    </tr>\n",
       "  </tbody>\n",
       "</table>\n",
       "<p>2343 rows × 7 columns</p>\n",
       "</div>"
      ]
     },
     "execution_count": 11,
     "metadata": {},
     "output_type": "execute_result"
    }
   ],
   "execution_count": 11
  },
  {
   "metadata": {
    "ExecuteTime": {
     "end_time": "2025-04-24T16:14:08.109386Z",
     "start_time": "2025-04-24T16:14:08.106111Z"
    }
   },
   "cell_type": "code",
   "source": "df[df[\"n\"] > 2]",
   "id": "c48226134e16018c",
   "outputs": [
    {
     "data": {
      "text/plain": [
       "Empty DataFrame\n",
       "Columns: [seed_begin, seed_end, next_seed_begin, candidates, bundled_cycle, m, n]\n",
       "Index: []"
      ],
      "text/html": [
       "<div>\n",
       "<style scoped>\n",
       "    .dataframe tbody tr th:only-of-type {\n",
       "        vertical-align: middle;\n",
       "    }\n",
       "\n",
       "    .dataframe tbody tr th {\n",
       "        vertical-align: top;\n",
       "    }\n",
       "\n",
       "    .dataframe thead th {\n",
       "        text-align: right;\n",
       "    }\n",
       "</style>\n",
       "<table border=\"1\" class=\"dataframe\">\n",
       "  <thead>\n",
       "    <tr style=\"text-align: right;\">\n",
       "      <th></th>\n",
       "      <th>seed_begin</th>\n",
       "      <th>seed_end</th>\n",
       "      <th>next_seed_begin</th>\n",
       "      <th>candidates</th>\n",
       "      <th>bundled_cycle</th>\n",
       "      <th>m</th>\n",
       "      <th>n</th>\n",
       "    </tr>\n",
       "  </thead>\n",
       "  <tbody>\n",
       "  </tbody>\n",
       "</table>\n",
       "</div>"
      ]
     },
     "execution_count": 12,
     "metadata": {},
     "output_type": "execute_result"
    }
   ],
   "execution_count": 12
  },
  {
   "metadata": {
    "ExecuteTime": {
     "end_time": "2025-04-24T16:14:08.153951Z",
     "start_time": "2025-04-24T16:14:08.152558Z"
    }
   },
   "cell_type": "code",
   "source": "",
   "id": "d22d412cb43c502c",
   "outputs": [],
   "execution_count": null
  }
 ],
 "metadata": {
  "kernelspec": {
   "display_name": "Python 3",
   "language": "python",
   "name": "python3"
  },
  "language_info": {
   "codemirror_mode": {
    "name": "ipython",
    "version": 2
   },
   "file_extension": ".py",
   "mimetype": "text/x-python",
   "name": "python",
   "nbconvert_exporter": "python",
   "pygments_lexer": "ipython2",
   "version": "2.7.6"
  }
 },
 "nbformat": 4,
 "nbformat_minor": 5
}
