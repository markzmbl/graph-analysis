{
 "cells": [
  {
   "cell_type": "code",
   "id": "74f8a2dceb65a349",
   "metadata": {
    "ExecuteTime": {
     "end_time": "2024-11-30T13:30:17.336976Z",
     "start_time": "2024-11-30T13:30:17.199413Z"
    }
   },
   "source": [
    "from utils import GraphEdgeIterator, generate_seeds, iteration_logging\n",
    "from tqdm.notebook import tqdm\n"
   ],
   "outputs": [],
   "execution_count": 1
  },
  {
   "metadata": {
    "ExecuteTime": {
     "end_time": "2024-11-30T13:30:17.342110Z",
     "start_time": "2024-11-30T13:30:17.340116Z"
    }
   },
   "cell_type": "code",
   "source": [
    "OMEGA = 10\n",
    "BUFFER_COUNT = 2\n",
    "PRUNE_INTERVAL = 1_000"
   ],
   "id": "aa27db9f8a81738d",
   "outputs": [],
   "execution_count": 2
  },
  {
   "cell_type": "code",
   "id": "b6a0e3c5-9e15-449d-9f99-3d8090e9cf52",
   "metadata": {
    "ExecuteTime": {
     "end_time": "2024-11-30T13:30:26.026480Z",
     "start_time": "2024-11-30T13:30:17.385145Z"
    }
   },
   "source": "edges = list(GraphEdgeIterator(buffer_count=BUFFER_COUNT))",
   "outputs": [],
   "execution_count": 3
  },
  {
   "cell_type": "code",
   "id": "aae91bab6563bebc",
   "metadata": {
    "ExecuteTime": {
     "end_time": "2024-11-30T13:31:24.567528Z",
     "start_time": "2024-11-30T13:31:21.520853Z"
    }
   },
   "source": [
    "wrapped_edges = tqdm(GraphEdgeIterator(\n",
    "    buffer_count=BUFFER_COUNT,\n",
    "    maintain_reverse_reachability=True,\n",
    "    omega=OMEGA,\n",
    "    prune_interval=PRUNE_INTERVAL\n",
    "), total=len(edges), desc=\"Edges\")"
   ],
   "outputs": [
    {
     "data": {
      "text/plain": [
       "Edges:   0%|          | 0/2912276 [00:00<?, ?it/s]"
      ],
      "application/vnd.jupyter.widget-view+json": {
       "version_major": 2,
       "version_minor": 0,
       "model_id": "db1147bfbcd44269b68f43f4dcbdc97b"
      }
     },
     "metadata": {},
     "output_type": "display_data"
    }
   ],
   "execution_count": 6
  },
  {
   "cell_type": "code",
   "id": "427de5f491c0215c",
   "metadata": {
    "jupyter": {
     "is_executing": true
    },
    "ExecuteTime": {
     "start_time": "2024-11-30T13:31:25.809925Z"
    }
   },
   "source": "seeds = list(iteration_logging(generate_seeds(wrapped_edges, omega=10), plot=True))",
   "outputs": [
    {
     "data": {
      "application/vnd.jupyter.widget-view+json": {
       "version_major": 2,
       "version_minor": 0,
       "model_id": "378352ebba8b4964847f3eb129373022"
      },
      "text/plain": [
       "FigureWidget({\n",
       "    'data': [{'mode': 'lines',\n",
       "              'name': 'Iterations',\n",
       "              'type': 'scatter',\n",
       "              'uid': '15ac18f0-0c95-4fb5-9894-d6722d8d699a',\n",
       "              'x': [],\n",
       "              'y': []}],\n",
       "    'layout': {'template': '...', 'xaxis': {'title': {'text': 'seconds'}}, 'yaxis': {'title': {'text': 'iterations'}}}\n",
       "})"
      ]
     },
     "metadata": {},
     "output_type": "display_data"
    },
    {
     "data": {
      "application/vnd.jupyter.widget-view+json": {
       "version_major": 2,
       "version_minor": 0,
       "model_id": "b2ab0ef412bc45368bde5f4bb0889472"
      },
      "text/plain": [
       "FigureWidget({\n",
       "    'data': [{'mode': 'lines',\n",
       "              'name': 'Iteration rate',\n",
       "              'type': 'scatter',\n",
       "              'uid': '8bc1acb0-1b60-4d7d-b527-776c397ac439',\n",
       "              'x': [],\n",
       "              'y': []}],\n",
       "    'layout': {'template': '...', 'xaxis': {'title': {'text': 'seconds'}}, 'yaxis': {'title': {'text': 'iteration rate'}}}\n",
       "})"
      ]
     },
     "metadata": {},
     "output_type": "display_data"
    },
    {
     "data": {
      "application/vnd.jupyter.widget-view+json": {
       "version_major": 2,
       "version_minor": 0,
       "model_id": "8f46971a0c414b238d13b8437f0a9fb3"
      },
      "text/plain": [
       "FigureWidget({\n",
       "    'data': [{'mode': 'lines',\n",
       "              'name': 'Memory usage',\n",
       "              'type': 'scatter',\n",
       "              'uid': 'bf2e42da-d867-45d5-92dd-f09a36d1819e',\n",
       "              'x': [],\n",
       "              'y': []}],\n",
       "    'layout': {'template': '...',\n",
       "               'xaxis': {'title': {'text': 'seconds'}},\n",
       "               'yaxis': {'title': {'text': 'memory usage (GB)'}}}\n",
       "})"
      ]
     },
     "metadata": {},
     "output_type": "display_data"
    }
   ],
   "execution_count": null
  },
  {
   "metadata": {},
   "cell_type": "code",
   "outputs": [],
   "execution_count": null,
   "source": "",
   "id": "96a02d857254473a"
  }
 ],
 "metadata": {
  "kernelspec": {
   "display_name": "Python 3 (ipykernel)",
   "language": "python",
   "name": "python3"
  },
  "language_info": {
   "codemirror_mode": {
    "name": "ipython",
    "version": 3
   },
   "file_extension": ".py",
   "mimetype": "text/x-python",
   "name": "python",
   "nbconvert_exporter": "python",
   "pygments_lexer": "ipython3",
   "version": "3.10.15"
  }
 },
 "nbformat": 4,
 "nbformat_minor": 5
}
