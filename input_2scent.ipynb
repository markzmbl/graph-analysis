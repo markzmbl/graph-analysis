{
 "cells": [
  {
   "cell_type": "code",
   "id": "initial_id",
   "metadata": {
    "collapsed": true,
    "ExecuteTime": {
     "end_time": "2024-11-16T12:01:05.093601Z",
     "start_time": "2024-11-16T12:01:05.072892Z"
    }
   },
   "source": [
    "import networkx as nx\n",
    "import pandas as pd\n",
    "\n",
    "from utils import get_graph_paths, read_graph\n",
    "\n",
    "path = get_graph_paths(\"2021-01-01\")[0]"
   ],
   "outputs": [],
   "execution_count": 24
  },
  {
   "metadata": {
    "ExecuteTime": {
     "end_time": "2024-11-16T11:55:33.156203Z",
     "start_time": "2024-11-16T11:55:32.243631Z"
    }
   },
   "cell_type": "code",
   "source": "graph = read_graph(path)",
   "id": "b1c50ac28f9d68ce",
   "outputs": [],
   "execution_count": 9
  },
  {
   "metadata": {
    "ExecuteTime": {
     "end_time": "2024-11-16T12:01:10.687356Z",
     "start_time": "2024-11-16T12:01:07.343181Z"
    }
   },
   "cell_type": "code",
   "source": "edge_list: pd.DataFrame = nx.to_pandas_edgelist(graph, edge_key=\"time\")",
   "id": "f5868edb6343725f",
   "outputs": [],
   "execution_count": 25
  },
  {
   "metadata": {
    "ExecuteTime": {
     "end_time": "2024-11-16T12:01:12.364680Z",
     "start_time": "2024-11-16T12:01:12.176720Z"
    }
   },
   "cell_type": "code",
   "source": [
    "edge_list[\"source\"] = pd.factorize(edge_list[\"source\"])[0]\n",
    "edge_list[\"target\"] = pd.factorize(edge_list[\"target\"])[0]\n"
   ],
   "id": "c7226e2b32d55ff",
   "outputs": [],
   "execution_count": 26
  },
  {
   "metadata": {
    "ExecuteTime": {
     "end_time": "2024-11-16T12:01:17.342954Z",
     "start_time": "2024-11-16T12:01:17.338615Z"
    }
   },
   "cell_type": "code",
   "source": "edge_list",
   "id": "8def5413ca76fb24",
   "outputs": [
    {
     "data": {
      "text/plain": [
       "         source  target      time value  \\\n",
       "0             0       0  11565019     0   \n",
       "1             0       0  11565024     0   \n",
       "2             0       0  11565518     0   \n",
       "3             0       0  11565531     0   \n",
       "4             0       0  11565558     0   \n",
       "...         ...     ...       ...   ...   \n",
       "1071758  353426    1234  11571563     0   \n",
       "1071759  353427  231950  11571563     0   \n",
       "1071760  353428    1296  11571563     0   \n",
       "1071761  353429    1348  11571563     0   \n",
       "1071762  353430      43  11571563     0   \n",
       "\n",
       "                                                        id  \n",
       "0        b'X\\xb2g\\xb1.\\xe8!\\xc9)?\\x91E\\xa4{\\xe8\\xb9\\x98...  \n",
       "1        b'\\xb6\\xae\\x98r/\\xba0\\x98\\xfe\\x95\\x14\\xf6S\\x8a...  \n",
       "2        b'\\xf0\\x11\\xd8\\xf9\\xe4%\\xa8\\x11\\x14\\xf1l\\xb8\\x...  \n",
       "3        b'\\xb9\\xed\\x19\\xc2\\xa3\\xc5\\xea\\x80\\x84<2\\x04\\x...  \n",
       "4        b'\\xbd\\xed\\xa7F8W\\xd8\\x9a\\x91\\xb3\\xeevN1,r3\\x9...  \n",
       "...                                                    ...  \n",
       "1071758  b'\\x92:\\xaa*\\xccF,\\x8a\\xd6)\\x00nYxRQ\\x93R\\xa4\\...  \n",
       "1071759  b'\\x80\\xf8\\xb1I\\x83\\t\\xde\\xece\\x9c\\xe6\\nb\\xd9G...  \n",
       "1071760  b'\\xd3v\\xffQ\\x82)\\xd1\\x9dvtj\\xd8@\\x8d\\xea\\xbe\\...  \n",
       "1071761  b'g\\xc8C\\xc3}=\\x1d\\x93\\r\\x9b\\\\\\x06\\xa0\\xa2-\\xb...  \n",
       "1071762  b'!\\x18\\x85\\xc0f\\xcfX\\x0e\\xb4\\xa1B\\xb7dM8\\x13\\...  \n",
       "\n",
       "[1071763 rows x 5 columns]"
      ],
      "text/html": [
       "<div>\n",
       "<style scoped>\n",
       "    .dataframe tbody tr th:only-of-type {\n",
       "        vertical-align: middle;\n",
       "    }\n",
       "\n",
       "    .dataframe tbody tr th {\n",
       "        vertical-align: top;\n",
       "    }\n",
       "\n",
       "    .dataframe thead th {\n",
       "        text-align: right;\n",
       "    }\n",
       "</style>\n",
       "<table border=\"1\" class=\"dataframe\">\n",
       "  <thead>\n",
       "    <tr style=\"text-align: right;\">\n",
       "      <th></th>\n",
       "      <th>source</th>\n",
       "      <th>target</th>\n",
       "      <th>time</th>\n",
       "      <th>value</th>\n",
       "      <th>id</th>\n",
       "    </tr>\n",
       "  </thead>\n",
       "  <tbody>\n",
       "    <tr>\n",
       "      <th>0</th>\n",
       "      <td>0</td>\n",
       "      <td>0</td>\n",
       "      <td>11565019</td>\n",
       "      <td>0</td>\n",
       "      <td>b'X\\xb2g\\xb1.\\xe8!\\xc9)?\\x91E\\xa4{\\xe8\\xb9\\x98...</td>\n",
       "    </tr>\n",
       "    <tr>\n",
       "      <th>1</th>\n",
       "      <td>0</td>\n",
       "      <td>0</td>\n",
       "      <td>11565024</td>\n",
       "      <td>0</td>\n",
       "      <td>b'\\xb6\\xae\\x98r/\\xba0\\x98\\xfe\\x95\\x14\\xf6S\\x8a...</td>\n",
       "    </tr>\n",
       "    <tr>\n",
       "      <th>2</th>\n",
       "      <td>0</td>\n",
       "      <td>0</td>\n",
       "      <td>11565518</td>\n",
       "      <td>0</td>\n",
       "      <td>b'\\xf0\\x11\\xd8\\xf9\\xe4%\\xa8\\x11\\x14\\xf1l\\xb8\\x...</td>\n",
       "    </tr>\n",
       "    <tr>\n",
       "      <th>3</th>\n",
       "      <td>0</td>\n",
       "      <td>0</td>\n",
       "      <td>11565531</td>\n",
       "      <td>0</td>\n",
       "      <td>b'\\xb9\\xed\\x19\\xc2\\xa3\\xc5\\xea\\x80\\x84&lt;2\\x04\\x...</td>\n",
       "    </tr>\n",
       "    <tr>\n",
       "      <th>4</th>\n",
       "      <td>0</td>\n",
       "      <td>0</td>\n",
       "      <td>11565558</td>\n",
       "      <td>0</td>\n",
       "      <td>b'\\xbd\\xed\\xa7F8W\\xd8\\x9a\\x91\\xb3\\xeevN1,r3\\x9...</td>\n",
       "    </tr>\n",
       "    <tr>\n",
       "      <th>...</th>\n",
       "      <td>...</td>\n",
       "      <td>...</td>\n",
       "      <td>...</td>\n",
       "      <td>...</td>\n",
       "      <td>...</td>\n",
       "    </tr>\n",
       "    <tr>\n",
       "      <th>1071758</th>\n",
       "      <td>353426</td>\n",
       "      <td>1234</td>\n",
       "      <td>11571563</td>\n",
       "      <td>0</td>\n",
       "      <td>b'\\x92:\\xaa*\\xccF,\\x8a\\xd6)\\x00nYxRQ\\x93R\\xa4\\...</td>\n",
       "    </tr>\n",
       "    <tr>\n",
       "      <th>1071759</th>\n",
       "      <td>353427</td>\n",
       "      <td>231950</td>\n",
       "      <td>11571563</td>\n",
       "      <td>0</td>\n",
       "      <td>b'\\x80\\xf8\\xb1I\\x83\\t\\xde\\xece\\x9c\\xe6\\nb\\xd9G...</td>\n",
       "    </tr>\n",
       "    <tr>\n",
       "      <th>1071760</th>\n",
       "      <td>353428</td>\n",
       "      <td>1296</td>\n",
       "      <td>11571563</td>\n",
       "      <td>0</td>\n",
       "      <td>b'\\xd3v\\xffQ\\x82)\\xd1\\x9dvtj\\xd8@\\x8d\\xea\\xbe\\...</td>\n",
       "    </tr>\n",
       "    <tr>\n",
       "      <th>1071761</th>\n",
       "      <td>353429</td>\n",
       "      <td>1348</td>\n",
       "      <td>11571563</td>\n",
       "      <td>0</td>\n",
       "      <td>b'g\\xc8C\\xc3}=\\x1d\\x93\\r\\x9b\\\\\\x06\\xa0\\xa2-\\xb...</td>\n",
       "    </tr>\n",
       "    <tr>\n",
       "      <th>1071762</th>\n",
       "      <td>353430</td>\n",
       "      <td>43</td>\n",
       "      <td>11571563</td>\n",
       "      <td>0</td>\n",
       "      <td>b'!\\x18\\x85\\xc0f\\xcfX\\x0e\\xb4\\xa1B\\xb7dM8\\x13\\...</td>\n",
       "    </tr>\n",
       "  </tbody>\n",
       "</table>\n",
       "<p>1071763 rows × 5 columns</p>\n",
       "</div>"
      ]
     },
     "execution_count": 27,
     "metadata": {},
     "output_type": "execute_result"
    }
   ],
   "execution_count": 27
  },
  {
   "metadata": {
    "ExecuteTime": {
     "end_time": "2024-11-16T12:01:46.296932Z",
     "start_time": "2024-11-16T12:01:45.655009Z"
    }
   },
   "cell_type": "code",
   "source": [
    "\n",
    "edge_list[[\"source\", \"target\", \"time\"]].to_csv(\"edge_list.csv\", index=False, header=False)"
   ],
   "id": "5778c01d9b83d545",
   "outputs": [],
   "execution_count": 28
  },
  {
   "metadata": {},
   "cell_type": "code",
   "outputs": [],
   "execution_count": null,
   "source": "",
   "id": "78f0090cebabbe26"
  }
 ],
 "metadata": {
  "kernelspec": {
   "display_name": "Python 3",
   "language": "python",
   "name": "python3"
  },
  "language_info": {
   "codemirror_mode": {
    "name": "ipython",
    "version": 2
   },
   "file_extension": ".py",
   "mimetype": "text/x-python",
   "name": "python",
   "nbconvert_exporter": "python",
   "pygments_lexer": "ipython2",
   "version": "2.7.6"
  }
 },
 "nbformat": 4,
 "nbformat_minor": 5
}
