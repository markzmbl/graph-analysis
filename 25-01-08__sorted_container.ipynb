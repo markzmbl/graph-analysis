{
 "cells": [
  {
   "metadata": {
    "ExecuteTime": {
     "end_time": "2025-01-08T13:13:16.187345Z",
     "start_time": "2025-01-08T13:13:16.184206Z"
    }
   },
   "cell_type": "code",
   "source": [
    "from __future__ import annotations\n",
    "\n",
    "from sortedcontainers import SortedDict\n",
    "from sympy import Interval, FiniteSet\n",
    "from collections import defaultdict\n",
    "import itertools"
   ],
   "id": "b791fec7c977e947",
   "outputs": [],
   "execution_count": 44
  },
  {
   "metadata": {
    "ExecuteTime": {
     "end_time": "2025-01-08T13:13:16.202479Z",
     "start_time": "2025-01-08T13:13:16.198736Z"
    }
   },
   "cell_type": "code",
   "source": [
    "def interval_sort_key(interval: Interval):\n",
    "    if isinstance(interval, FiniteSet):\n",
    "        start = end = next(iter(interval))  # type: ignore\n",
    "    elif isinstance(interval, Interval):\n",
    "        start, end = interval.start, -interval.end\n",
    "    else:\n",
    "        raise RuntimeError(f\"Unexpected interval type: {type(interval)}\")\n",
    "    # First sort Start ascending, then End descending\n",
    "    return float(start), float(end)\n",
    "\n",
    "class DefaultSortedDict(SortedDict):\n",
    "    def __init__(self, *args, default_factory=None, **kwargs):\n",
    "        super().__init__(*args, **kwargs)\n",
    "        self.default_factory = default_factory\n",
    "\n",
    "    def __missing__(self, key):\n",
    "        if self.default_factory is None:\n",
    "            raise KeyError(key)\n",
    "        value = self.default_factory()\n",
    "        self[key] = value\n",
    "        return value"
   ],
   "id": "9f5ef7347546706",
   "outputs": [],
   "execution_count": 45
  },
  {
   "metadata": {
    "ExecuteTime": {
     "end_time": "2025-01-08T13:13:16.288300Z",
     "start_time": "2025-01-08T13:13:16.286273Z"
    }
   },
   "cell_type": "code",
   "source": "d = defaultdict(lambda: DefaultSortedDict(interval_sort_key, default_factory=set))",
   "id": "fe387c81d8710212",
   "outputs": [],
   "execution_count": 47
  },
  {
   "metadata": {
    "ExecuteTime": {
     "end_time": "2025-01-08T13:13:16.296510Z",
     "start_time": "2025-01-08T13:13:16.294981Z"
    }
   },
   "cell_type": "code",
   "source": "",
   "id": "b7d5c3989d257a56",
   "outputs": [],
   "execution_count": null
  },
  {
   "metadata": {
    "ExecuteTime": {
     "end_time": "2025-01-08T13:13:16.305244Z",
     "start_time": "2025-01-08T13:13:16.301911Z"
    }
   },
   "cell_type": "code",
   "source": [
    "for i, j in itertools.combinations(range(5), 2):\n",
    "    print(i, j)\n",
    "    d[1][Interval(i, j)].add(1)\n",
    "\n",
    "for i in range(5):\n",
    "    d[1][Interval(i, i)] = set()"
   ],
   "id": "dc07bfd9426451c6",
   "outputs": [
    {
     "name": "stdout",
     "output_type": "stream",
     "text": [
      "0 1\n",
      "0 2\n",
      "0 3\n",
      "0 4\n",
      "1 2\n",
      "1 3\n",
      "1 4\n",
      "2 3\n",
      "2 4\n",
      "3 4\n"
     ]
    }
   ],
   "execution_count": 48
  },
  {
   "metadata": {},
   "cell_type": "code",
   "source": "list(d[1].values())",
   "id": "357f1c7f6df79fc0",
   "outputs": [],
   "execution_count": null
  },
  {
   "metadata": {
    "ExecuteTime": {
     "end_time": "2025-01-08T13:13:16.320900Z",
     "start_time": "2025-01-08T13:13:16.319559Z"
    }
   },
   "cell_type": "code",
   "source": "",
   "id": "711e43a2af3ae82a",
   "outputs": [],
   "execution_count": null
  }
 ],
 "metadata": {
  "kernelspec": {
   "display_name": "Python 3",
   "language": "python",
   "name": "python3"
  },
  "language_info": {
   "codemirror_mode": {
    "name": "ipython",
    "version": 2
   },
   "file_extension": ".py",
   "mimetype": "text/x-python",
   "name": "python",
   "nbconvert_exporter": "python",
   "pygments_lexer": "ipython2",
   "version": "2.7.6"
  }
 },
 "nbformat": 4,
 "nbformat_minor": 5
}
