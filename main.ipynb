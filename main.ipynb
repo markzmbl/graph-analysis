{
 "cells": [
  {
   "cell_type": "code",
   "id": "initial_id",
   "metadata": {
    "collapsed": true,
    "ExecuteTime": {
     "end_time": "2025-02-09T14:53:59.843308Z",
     "start_time": "2025-02-09T14:53:59.473656Z"
    }
   },
   "source": [
    "import io\n",
    "\n",
    "from input.iterator import GraphEdgeIterator\n",
    "from cycles.iterator import GraphCycleIterator\n",
    "from io import StringIO\n",
    "import pandas as pd"
   ],
   "outputs": [],
   "execution_count": 1
  },
  {
   "metadata": {
    "ExecuteTime": {
     "end_time": "2025-02-09T14:54:00.660019Z",
     "start_time": "2025-02-09T14:54:00.635832Z"
    }
   },
   "cell_type": "code",
   "source": [
    "START_DATE = \"2019-08-12\"\n",
    "END_DATE = \"2019-08-12\"\n",
    "interaction_iterator = GraphEdgeIterator(START_DATE, END_DATE)"
   ],
   "id": "a8f750d7f11e44af",
   "outputs": [],
   "execution_count": 2
  },
  {
   "metadata": {
    "ExecuteTime": {
     "end_time": "2025-02-09T14:53:57.897470Z",
     "start_time": "2025-02-09T14:53:56.708010Z"
    }
   },
   "cell_type": "code",
   "source": [
    "with open(\"log.csv\", \"w\") as log_stream:\n",
    "    try:\n",
    "        list(GraphCycleIterator(interaction_iterator, prune_interval=10_000, log_stream=log_stream, log_interval=60))\n",
    "    except KeyboardInterrupt:\n",
    "        pass\n",
    "\n",
    "# df = pd.read_csv(\"log.csv\")\n",
    "# df = df.set_index(\"time_seconds\")\n",
    "# df.plot(subplots=True)"
   ],
   "id": "1b1b4f2cd0509a97",
   "outputs": [],
   "execution_count": null
  },
  {
   "metadata": {
    "ExecuteTime": {
     "end_time": "2025-02-09T14:39:48.890883Z",
     "start_time": "2025-02-09T14:39:48.889404Z"
    }
   },
   "cell_type": "code",
   "source": "",
   "id": "fa7c5799d461425a",
   "outputs": [],
   "execution_count": null
  }
 ],
 "metadata": {
  "kernelspec": {
   "display_name": "Python 3",
   "language": "python",
   "name": "python3"
  },
  "language_info": {
   "codemirror_mode": {
    "name": "ipython",
    "version": 2
   },
   "file_extension": ".py",
   "mimetype": "text/x-python",
   "name": "python",
   "nbconvert_exporter": "python",
   "pygments_lexer": "ipython2",
   "version": "2.7.6"
  }
 },
 "nbformat": 4,
 "nbformat_minor": 5
}
