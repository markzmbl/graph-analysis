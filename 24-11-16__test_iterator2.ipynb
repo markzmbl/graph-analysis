{
 "cells": [
  {
   "metadata": {
    "jupyter": {
     "is_executing": true
    }
   },
   "cell_type": "code",
   "source": "from utils import GraphEdgeIterator\n",
   "id": "ae9d72742a60bf92",
   "outputs": [],
   "execution_count": null
  },
  {
   "metadata": {},
   "cell_type": "code",
   "outputs": [],
   "execution_count": null,
   "source": [
    "GraphEdgeIterator(\"2021-01-01\", \"2021-01-01\")\n",
    "\n",
    "list(GraphEdgeIterator(\"2021-01-01\", \"2021-01-01\"))"
   ],
   "id": "f388da24685e7960"
  }
 ],
 "metadata": {
  "kernelspec": {
   "display_name": "Python 3",
   "language": "python",
   "name": "python3"
  },
  "language_info": {
   "codemirror_mode": {
    "name": "ipython",
    "version": 2
   },
   "file_extension": ".py",
   "mimetype": "text/x-python",
   "name": "python",
   "nbconvert_exporter": "python",
   "pygments_lexer": "ipython2",
   "version": "2.7.6"
  }
 },
 "nbformat": 4,
 "nbformat_minor": 5
}
