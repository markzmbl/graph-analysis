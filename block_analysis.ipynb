{
 "cells": [
  {
   "metadata": {},
   "cell_type": "code",
   "outputs": [],
   "execution_count": null,
   "source": [
    "from tqdm.auto import tqdm\n",
    "from collections import defaultdict\n",
    "\n",
    "from input.iterator import GraphEdgeIterator\n",
    "\n",
    "blocks = defaultdict(lambda: defaultdict(list))\n",
    "for u, v, t, _ in tqdm(GraphEdgeIterator(), unit_scale=True):\n",
    "    blocks[t][v].append(u)"
   ],
   "id": "f7969210f2dad7f2"
  },
  {
   "metadata": {},
   "cell_type": "code",
   "outputs": [],
   "execution_count": null,
   "source": "",
   "id": "19b1bba6ebe5d6b3"
  }
 ],
 "metadata": {},
 "nbformat": 5,
 "nbformat_minor": 9
}
