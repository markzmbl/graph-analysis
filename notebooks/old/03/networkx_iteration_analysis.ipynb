{
 "cells": [
  {
   "metadata": {},
   "cell_type": "code",
   "outputs": [],
   "execution_count": null,
   "source": [
    "from pathlib import Path\n",
    "import pandas as pd\n",
    "import matplotlib.pyplot as plt\n",
    "from datetime import date\n",
    "import matplotlib as mpl"
   ],
   "id": "b8fe18d253f0341b"
  },
  {
   "metadata": {},
   "cell_type": "code",
   "outputs": [],
   "execution_count": null,
   "source": [
    "# Plotting the data\n",
    "logs_directory = Path(f\"../16TB/graphs.logs\")\n",
    "length_bounds = sorted(int(directory.name) for directory in logs_directory.iterdir())\n",
    "columns = ('iterations', 'rate')\n",
    "\n",
    "fig, axss = plt.subplots(\n",
    "    nrows=len(length_bounds), ncols=len(columns),\n",
    "    figsize=(20, len(length_bounds) * 6))\n",
    "\n",
    "cmap = mpl.colormaps['cool']  # Choose a colormap (e.g., 'cmap')\n",
    "\n",
    "for length_bound, axs in zip(length_bounds, axss):\n",
    "    log_paths = sorted((logs_directory / str(length_bound)).iterdir())\n",
    "    for i, log_path in enumerate(log_paths):\n",
    "        log_df = pd.read_csv(log_path)\n",
    "        for column, ax in zip(columns, axs):\n",
    "            # Plot column vs timestamp\n",
    "            graph_date = log_path.stem.split(\"__\")[-1]\n",
    "            color = cmap(i / (len(log_paths) - 1))\n",
    "            ax.plot(log_df['time_seconds'] / 60 / 60, log_df[column], label=graph_date, color=color)\n",
    "\n",
    "            # Adding titles and labels\n",
    "            ax.set_title(f\"{length_bound=}\")\n",
    "            ax.set_xlabel('Time (hours)')\n",
    "            ax.set_ylabel(column)\n",
    "            ax.legend()\n",
    "\n",
    "# Display the plot\n",
    "plt.tight_layout()  # Ensures the subplots do not overlap\n",
    "plt.show()"
   ],
   "id": "9ea066f1e2d8ad18"
  },
  {
   "metadata": {},
   "cell_type": "code",
   "outputs": [],
   "execution_count": null,
   "source": "",
   "id": "fd73b6b253c42e84"
  }
 ],
 "metadata": {
  "kernelspec": {
   "display_name": "Python 3",
   "language": "python",
   "name": "python3"
  },
  "language_info": {
   "codemirror_mode": {
    "name": "ipython",
    "version": 2
   },
   "file_extension": ".py",
   "mimetype": "text/x-python",
   "name": "python",
   "nbconvert_exporter": "python",
   "pygments_lexer": "ipython2",
   "version": "2.7.6"
  }
 },
 "nbformat": 4,
 "nbformat_minor": 5
}
