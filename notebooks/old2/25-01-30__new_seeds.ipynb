{
 "cells": [
  {
   "metadata": {},
   "cell_type": "code",
   "outputs": [],
   "execution_count": null,
   "source": [
    "from utils import iteration_logging\n",
    "from cycles.graph_cycle_iterator import GraphCycleIterator\n",
    "from graph_edge_iterator import GraphEdgeIterator\n",
    "from tqdm.auto import tqdm\n",
    "import io\n",
    "import pandas as pd"
   ],
   "id": "dbcfc04de23da20c"
  },
  {
   "metadata": {},
   "cell_type": "code",
   "outputs": [],
   "execution_count": null,
   "source": [
    "\n",
    "OMEGA = 30\n",
    "BUFFER_COUNT = 2\n",
    "PRUNE_INTERVAL = 1_000\n",
    "END_DATE = \"2019-08-10\"\n",
    "\n"
   ],
   "id": "1336f2a1341795a0"
  },
  {
   "metadata": {},
   "cell_type": "code",
   "outputs": [],
   "execution_count": null,
   "source": [
    "def edge_generator():\n",
    "    return GraphEdgeIterator(end_date=END_DATE, buffer_count=BUFFER_COUNT)\n",
    "\n",
    "def wrapped_edge_generator(log_stream):\n",
    "    return tqdm(iteration_logging(edge_generator(), log_stream=log_stream), total=TOTAL_EDGES)\n",
    "\n",
    "def cycle_generator(omega, log_stream_edges=None, track_history=False):\n",
    "    return GraphCycleIterator(wrapped_edge_generator(log_stream_edges), omega, track_history=track_history)"
   ],
   "id": "bf6aa6a27e39e634"
  },
  {
   "metadata": {},
   "cell_type": "code",
   "outputs": [],
   "execution_count": null,
   "source": "TOTAL_EDGES = len(list(edge_generator()))",
   "id": "e5ab576108f52b10"
  },
  {
   "metadata": {},
   "cell_type": "code",
   "outputs": [],
   "execution_count": null,
   "source": [
    "log_stream_edges = io.StringIO()\n",
    "log_stream_cycles = io.StringIO()\n",
    "\n",
    "wrapped_cycles = iteration_logging(cycle_generator(OMEGA, log_stream_edges), log_stream=log_stream_cycles)\n",
    "\n",
    "cycles = [c for c in wrapped_cycles]\n"
   ],
   "id": "abce2b6db5d9e5c5"
  },
  {
   "metadata": {},
   "cell_type": "code",
   "outputs": [],
   "execution_count": null,
   "source": [
    "dfs = []\n",
    "for index, (prefix, log_stream) in enumerate({\n",
    "    \"_interactions\": log_stream_edges,\n",
    "    \"cycles\": log_stream_cycles\n",
    "}.items()):\n",
    "    log_stream.seek(0)\n",
    "    df = pd.read_csv(log_stream)\n",
    "    df[\"time_seconds\"] = pd.to_datetime(df[\"time_seconds\"], unit=\"s\")\n",
    "    if index > 0:\n",
    "        df = df.drop(columns=\"memory_usage_bytes\")\n",
    "    df = df.set_index(\"time_seconds\").add_prefix(prefix + \"_\")\n",
    "    dfs.append(df)\n",
    "\n",
    "df = pd.concat(dfs, axis=1)\n",
    "df.plot(subplots=True)"
   ],
   "id": "ca9aa7b840e933cf"
  },
  {
   "metadata": {},
   "cell_type": "code",
   "outputs": [],
   "execution_count": null,
   "source": [
    "generator = cycle_generator(OMEGA, track_history=True)\n",
    "list(generator)"
   ],
   "id": "2e23eec928243fec"
  },
  {
   "metadata": {},
   "cell_type": "code",
   "outputs": [],
   "execution_count": null,
   "source": [
    "import numpy as np\n",
    "import pandas as pd\n",
    "\n",
    "\n",
    "def bin_lengths(lengths, bin_edges):\n",
    "    \"\"\"Bins length counts into predefined bins.\"\"\"\n",
    "    binned_counts = {f\"{bin_edges[i]}-{bin_edges[i+1]}\": 0 for i in range(len(bin_edges) - 1)}\n",
    "    for length, count in lengths.items():\n",
    "        for i in range(len(bin_edges) - 1):\n",
    "            if bin_edges[i] <= length < bin_edges[i + 1]:\n",
    "                binned_counts[f\"{bin_edges[i]}-{bin_edges[i+1]}\"] += count\n",
    "                break\n",
    "    return binned_counts\n",
    "\n",
    "def process_data_for_plot(data):\n",
    "    \"\"\"Converts list of length-count dictionaries into a DataFrame for plotting.\"\"\"\n",
    "    all_lengths = set()\n",
    "    for d in tqdm(data, \"determining min/max\"):\n",
    "        all_lengths.update(d.keys())\n",
    "\n",
    "    min_len, max_len = min(all_lengths), max(all_lengths)\n",
    "\n",
    "    # Define sensible bins (logarithmic if range is large, otherwise equal-width)\n",
    "    if max_len - min_len > 20:\n",
    "        bin_edges = np.unique(np.logspace(np.log10(min_len), np.log10(max_len), num=10, dtype=int))\n",
    "    else:\n",
    "        bin_edges = np.arange(min_len, max_len + 5, step=max((max_len - min_len) // 10, 1))\n",
    "\n",
    "    # Re-bin the data\n",
    "    binned_data = [bin_lengths(d, bin_edges) for d in data]\n",
    "\n",
    "    # Convert to DataFrame\n",
    "    df = pd.DataFrame(binned_data).fillna(0)\n",
    "    return df\n",
    "\n",
    "def plot_stacked_area(df):\n",
    "    \"\"\"Plots a stacked area chart from the processed DataFrame.\"\"\"\n",
    "    df.plot(kind='area', stacked=True, colormap='cmap', alpha=0.7, figsize=(10, 6))\n",
    "    plt.xlabel(\"Index\")\n",
    "    plt.ylabel(\"Count\")\n",
    "    plt.title(\"Stacked Area Chart of Binned Length Frequencies\")\n",
    "    plt.legend(title=\"Bins\", bbox_to_anchor=(1.05, 1), loc='upper left')\n",
    "    plt.grid(True, linestyle='--', alpha=0.5)\n",
    "    plt.show()\n"
   ],
   "id": "d774f0644fb8d359"
  },
  {
   "metadata": {},
   "cell_type": "code",
   "outputs": [],
   "execution_count": null,
   "source": [
    "# Process and plot\n",
    "df = process_data_for_plot(generator.separate_seeds_history)\n",
    "plot_stacked_area(df)"
   ],
   "id": "faec320efd23dc81"
  },
  {
   "metadata": {},
   "cell_type": "code",
   "outputs": [],
   "execution_count": null,
   "source": [
    "# Process and plot\n",
    "df = process_data_for_plot(generator.combined_seeds_history)\n",
    "plot_stacked_area(df)"
   ],
   "id": "2ac431ebdf5f1575"
  },
  {
   "metadata": {},
   "cell_type": "code",
   "outputs": [],
   "execution_count": null,
   "source": "minimums = list(cycle_generator(OMEGA))",
   "id": "b336ad07ca9b4a1"
  },
  {
   "metadata": {},
   "cell_type": "code",
   "outputs": [],
   "execution_count": null,
   "source": [
    "import matplotlib.pyplot as plt\n",
    "\n",
    "plt.plot(minimums)"
   ],
   "id": "d228a17d42e6aadf"
  },
  {
   "metadata": {},
   "cell_type": "code",
   "outputs": [],
   "execution_count": null,
   "source": "",
   "id": "dd93538e1d2cf5a6"
  }
 ],
 "metadata": {
  "kernelspec": {
   "display_name": "Python 3",
   "language": "python",
   "name": "python3"
  },
  "language_info": {
   "codemirror_mode": {
    "name": "ipython",
    "version": 2
   },
   "file_extension": ".py",
   "mimetype": "text/x-python",
   "name": "python",
   "nbconvert_exporter": "python",
   "pygments_lexer": "ipython2",
   "version": "2.7.6"
  }
 },
 "nbformat": 4,
 "nbformat_minor": 5
}
