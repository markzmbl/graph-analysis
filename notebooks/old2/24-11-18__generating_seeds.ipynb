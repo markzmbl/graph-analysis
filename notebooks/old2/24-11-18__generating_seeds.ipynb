{
 "cells": [
  {
   "metadata": {
    "ExecuteTime": {
     "end_time": "2024-11-18T19:02:00.684556Z",
     "start_time": "2024-11-18T19:02:00.563623Z"
    }
   },
   "cell_type": "code",
   "source": [
    "from utils import GraphEdgeIterator\n",
    "from tqdm.notebook import tqdm"
   ],
   "id": "d5845c4a87928835",
   "outputs": [],
   "execution_count": 1
  },
  {
   "cell_type": "code",
   "id": "98d71618031ffc1d",
   "metadata": {
    "ExecuteTime": {
     "end_time": "2024-11-18T19:02:00.692965Z",
     "start_time": "2024-11-18T19:02:00.688614Z"
    }
   },
   "source": [
    "def generate_seeds(edges, omega, prune_interval=1_000):\n",
    "    \"\"\"\n",
    "    \n",
    "    :param edges: \n",
    "    :param omega: \n",
    "    :param prune_interval: \n",
    "    :return: All vertexs s, time stamps t_start and t_end, and a candidates set such that there exists a loop from s to s\n",
    "        using only vertexs in C starting at t_start and ending at t_end\n",
    "    \"\"\"\n",
    "    S = {}  # Summaries for each vertex\n",
    "\n",
    "    for i, (a, b, t) in enumerate(edges):\n",
    "        if a == b:\n",
    "            continue\n",
    "            \n",
    "        # Ensure S(b) exists\n",
    "        if b not in S:\n",
    "            S[b] = set()\n",
    "        # Add (a, t) to S(b)\n",
    "        S[b].add((a, t))\n",
    "\n",
    "        if a in S:\n",
    "            # Prune outdated entries from S(a)\n",
    "            S[a] = {(x, tx) for (x, tx) in S[a] if tx > t - omega}\n",
    "            # Update S(b) with entries from S(a)\n",
    "            S[b].update(S[a])\n",
    "\n",
    "            # Iterate over copies to avoid modification issues\n",
    "            for vertex_b, tb in list(S[b]):\n",
    "                if vertex_b == b:\n",
    "                    # Construct candidates C\n",
    "                    candidates = {c for (c, tc) in S[a] if tc > tb}\n",
    "                    candidates.add(b)\n",
    "                    # Output the seed\n",
    "                    yield b, (tb, t), candidates\n",
    "                    # Remove (b, tb) from S(b)\n",
    "                    S[b].remove((b, tb))\n",
    "\n",
    "        # Time to prune all summaries\n",
    "        if i % prune_interval == 0:\n",
    "            for vertex in S:\n",
    "                S[vertex] = {(y, ty) for (y, ty) in S[vertex] if ty > t - omega}"
   ],
   "outputs": [],
   "execution_count": 2
  },
  {
   "metadata": {
    "ExecuteTime": {
     "end_time": "2024-11-18T19:02:09.288749Z",
     "start_time": "2024-11-18T19:02:00.732041Z"
    }
   },
   "cell_type": "code",
   "source": "edges = list(GraphEdgeIterator(end_date=\"2019-08-14\"))\n",
   "id": "5f2b7d17aa99b45e",
   "outputs": [],
   "execution_count": 3
  },
  {
   "metadata": {
    "ExecuteTime": {
     "end_time": "2024-11-18T19:02:09.297375Z",
     "start_time": "2024-11-18T19:02:09.295304Z"
    }
   },
   "cell_type": "code",
   "source": "omega = 10  # Threshold",
   "id": "aaed085a8590c3af",
   "outputs": [],
   "execution_count": 4
  },
  {
   "metadata": {
    "collapsed": true,
    "jupyter": {
     "is_executing": true
    }
   },
   "cell_type": "code",
   "source": [
    "# pbar = tqdm(edges)\n",
    "list(generate_seeds(edges, omega))"
   ],
   "id": "initial_id",
   "outputs": [],
   "execution_count": null
  },
  {
   "metadata": {},
   "cell_type": "code",
   "outputs": [],
   "execution_count": null,
   "source": "",
   "id": "e1c3977c1c5394e3"
  }
 ],
 "metadata": {
  "kernelspec": {
   "display_name": "Python 3",
   "language": "python",
   "name": "python3"
  },
  "language_info": {
   "codemirror_mode": {
    "name": "ipython",
    "version": 2
   },
   "file_extension": ".py",
   "mimetype": "text/x-python",
   "name": "python",
   "nbconvert_exporter": "python",
   "pygments_lexer": "ipython2",
   "version": "2.7.6"
  }
 },
 "nbformat": 4,
 "nbformat_minor": 5
}
