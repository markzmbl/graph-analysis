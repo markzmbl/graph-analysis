{
 "cells": [
  {
   "metadata": {
    "ExecuteTime": {
     "end_time": "2025-02-06T14:46:06.295535Z",
     "start_time": "2025-02-06T14:46:06.293098Z"
    }
   },
   "cell_type": "code",
   "source": [
    "from utils import iteration_logging\n",
    "from cycles.graph_cycle_iterator import GraphCycleIterator\n",
    "from graph_edge_iterator import GraphEdgeIterator\n",
    "from tqdm.auto import tqdm\n"
   ],
   "id": "a563fcf518400e5c",
   "outputs": [],
   "execution_count": 7
  },
  {
   "metadata": {
    "ExecuteTime": {
     "end_time": "2025-02-06T14:46:06.306781Z",
     "start_time": "2025-02-06T14:46:06.304563Z"
    }
   },
   "cell_type": "code",
   "source": [
    "BUFFER_COUNT = 2\n",
    "PRUNE_INTERVAL = 1_000\n",
    "END_DATE = \"2019-08-10\"\n",
    "OMEGA = 10"
   ],
   "id": "f6adc85d18fd31e9",
   "outputs": [],
   "execution_count": 8
  },
  {
   "metadata": {
    "ExecuteTime": {
     "end_time": "2025-02-06T14:46:08.101237Z",
     "start_time": "2025-02-06T14:46:06.315319Z"
    }
   },
   "cell_type": "code",
   "source": [
    "def edge_generator():\n",
    "    return GraphEdgeIterator(end_date=END_DATE, buffer_count=BUFFER_COUNT)\n",
    "\n",
    "\n",
    "TOTAL_EDGES = len(list(edge_generator()))"
   ],
   "id": "359a1156c382a0a8",
   "outputs": [],
   "execution_count": 9
  },
  {
   "metadata": {
    "ExecuteTime": {
     "end_time": "2025-02-06T14:46:08.107286Z",
     "start_time": "2025-02-06T14:46:08.104934Z"
    }
   },
   "cell_type": "code",
   "source": [
    "def wrapped_edge_generator(log_stream):\n",
    "    return tqdm(\n",
    "        iteration_logging(\n",
    "            edge_generator(),\n",
    "            log_stream=log_stream\n",
    "        ),\n",
    "        total=TOTAL_EDGES\n",
    "    )\n",
    "\n",
    "\n",
    "def cycle_generator(omega, log_stream_edges=None, combine_seeds=True, track_history=False):\n",
    "    return GraphCycleIterator(\n",
    "        wrapped_edge_generator(log_stream_edges),\n",
    "        omega,\n",
    "        combine_seeds=combine_seeds,\n",
    "        track_history=track_history\n",
    "    )"
   ],
   "id": "4e465607f80ab952",
   "outputs": [],
   "execution_count": 10
  },
  {
   "metadata": {
    "ExecuteTime": {
     "end_time": "2025-02-06T14:46:10.528405Z",
     "start_time": "2025-02-06T14:46:08.112699Z"
    }
   },
   "cell_type": "code",
   "source": [
    "iterator = cycle_generator(OMEGA, track_history=False)\n",
    "list(iterator)"
   ],
   "id": "5ac10fd4b0ec3ce7",
   "outputs": [
    {
     "data": {
      "text/plain": [
       "  0%|          | 0/551830 [00:00<?, ?it/s]"
      ],
      "application/vnd.jupyter.widget-view+json": {
       "version_major": 2,
       "version_minor": 0,
       "model_id": "de9064cbece94a37bb079ecf98d7a8af"
      }
     },
     "metadata": {},
     "output_type": "display_data"
    },
    {
     "ename": "KeyboardInterrupt",
     "evalue": "",
     "output_type": "error",
     "traceback": [
      "\u001B[0;31m---------------------------------------------------------------------------\u001B[0m",
      "\u001B[0;31mKeyboardInterrupt\u001B[0m                         Traceback (most recent call last)",
      "Cell \u001B[0;32mIn[11], line 2\u001B[0m\n\u001B[1;32m      1\u001B[0m iterator \u001B[38;5;241m=\u001B[39m cycle_generator(OMEGA, track_history\u001B[38;5;241m=\u001B[39m\u001B[38;5;28;01mFalse\u001B[39;00m)\n\u001B[0;32m----> 2\u001B[0m \u001B[38;5;28;43mlist\u001B[39;49m\u001B[43m(\u001B[49m\u001B[43miterator\u001B[49m\u001B[43m)\u001B[49m\n",
      "File \u001B[0;32m~/Documents/uni/master/graph-analysis/graph_cycle_iterator.py:325\u001B[0m, in \u001B[0;36mGraphCycleIterator.__next__\u001B[0;34m(self)\u001B[0m\n\u001B[1;32m    323\u001B[0m \u001B[38;5;28;01mfor\u001B[39;00m u, t \u001B[38;5;129;01min\u001B[39;00m rr:\n\u001B[1;32m    324\u001B[0m     \u001B[38;5;28;01mtry\u001B[39;00m:\n\u001B[0;32m--> 325\u001B[0m         \u001B[38;5;28;01massert\u001B[39;00m \u001B[43mtime_respecting_paths\u001B[49m\u001B[43m(\u001B[49m\u001B[38;5;28;43mself\u001B[39;49m\u001B[38;5;241;43m.\u001B[39;49m\u001B[43mtransaction_graph\u001B[49m\u001B[43m,\u001B[49m\u001B[43m \u001B[49m\u001B[43mu\u001B[49m\u001B[43m,\u001B[49m\u001B[43m \u001B[49m\u001B[43mv\u001B[49m\u001B[43m,\u001B[49m\u001B[43m \u001B[49m\u001B[43mt\u001B[49m\u001B[43m)\u001B[49m\n\u001B[1;32m    326\u001B[0m     \u001B[38;5;28;01mexcept\u001B[39;00m \u001B[38;5;167;01mAssertionError\u001B[39;00m:\n\u001B[1;32m    327\u001B[0m         \u001B[38;5;28mprint\u001B[39m(\u001B[38;5;241m1\u001B[39m)\n",
      "File \u001B[0;32m~/Documents/uni/master/graph-analysis/.venv/lib/python3.10/site-packages/dynetx/algorithms/paths.py:166\u001B[0m, in \u001B[0;36mtime_respecting_paths\u001B[0;34m(G, u, v, start, end, sample)\u001B[0m\n\u001B[1;32m    163\u001B[0m \u001B[38;5;28;01mif\u001B[39;00m \u001B[38;5;129;01mnot\u001B[39;00m G\u001B[38;5;241m.\u001B[39mhas_node(u, start):\n\u001B[1;32m    164\u001B[0m     \u001B[38;5;28;01mreturn\u001B[39;00m []\n\u001B[0;32m--> 166\u001B[0m DAG, sources, targets, n_type, t_type \u001B[38;5;241m=\u001B[39m \u001B[43mtemporal_dag\u001B[49m\u001B[43m(\u001B[49m\u001B[43mG\u001B[49m\u001B[43m,\u001B[49m\u001B[43m \u001B[49m\u001B[43mu\u001B[49m\u001B[43m,\u001B[49m\u001B[43m \u001B[49m\u001B[43mv\u001B[49m\u001B[38;5;241;43m=\u001B[39;49m\u001B[43mv\u001B[49m\u001B[43m,\u001B[49m\u001B[43m \u001B[49m\u001B[43mstart\u001B[49m\u001B[38;5;241;43m=\u001B[39;49m\u001B[43mstart\u001B[49m\u001B[43m,\u001B[49m\u001B[43m \u001B[49m\u001B[43mend\u001B[49m\u001B[38;5;241;43m=\u001B[39;49m\u001B[43mend\u001B[49m\u001B[43m)\u001B[49m\n\u001B[1;32m    169\u001B[0m pairs \u001B[38;5;241m=\u001B[39m [(x, y) \u001B[38;5;28;01mfor\u001B[39;00m x \u001B[38;5;129;01min\u001B[39;00m sources \u001B[38;5;28;01mfor\u001B[39;00m y \u001B[38;5;129;01min\u001B[39;00m targets]\n\u001B[1;32m    170\u001B[0m \u001B[38;5;28;01mif\u001B[39;00m sample \u001B[38;5;241m<\u001B[39m \u001B[38;5;241m1\u001B[39m:\n",
      "File \u001B[0;32m~/Documents/uni/master/graph-analysis/.venv/lib/python3.10/site-packages/dynetx/algorithms/paths.py:97\u001B[0m, in \u001B[0;36mtemporal_dag\u001B[0;34m(G, u, v, start, end)\u001B[0m\n\u001B[1;32m     95\u001B[0m neighbors \u001B[38;5;241m=\u001B[39m {\u001B[38;5;124mf\u001B[39m\u001B[38;5;124m\"\u001B[39m\u001B[38;5;132;01m{\u001B[39;00mn\u001B[38;5;132;01m}\u001B[39;00m\u001B[38;5;124m_\u001B[39m\u001B[38;5;132;01m{\u001B[39;00mtid\u001B[38;5;132;01m}\u001B[39;00m\u001B[38;5;124m\"\u001B[39m: \u001B[38;5;28;01mNone\u001B[39;00m \u001B[38;5;28;01mfor\u001B[39;00m n \u001B[38;5;129;01min\u001B[39;00m G\u001B[38;5;241m.\u001B[39mneighbors(node_type(\u001B[38;5;28mstr\u001B[39m(an)\u001B[38;5;241m.\u001B[39msplit(\u001B[38;5;124m\"\u001B[39m\u001B[38;5;124m_\u001B[39m\u001B[38;5;124m\"\u001B[39m)[\u001B[38;5;241m0\u001B[39m]), tid)}\n\u001B[1;32m     96\u001B[0m \u001B[38;5;28;01mif\u001B[39;00m v \u001B[38;5;129;01mis\u001B[39;00m \u001B[38;5;129;01mnot\u001B[39;00m \u001B[38;5;28;01mNone\u001B[39;00m:\n\u001B[0;32m---> 97\u001B[0m     \u001B[38;5;28;01mif\u001B[39;00m \u001B[38;5;124mf\u001B[39m\u001B[38;5;124m\"\u001B[39m\u001B[38;5;132;01m{\u001B[39;00mv\u001B[38;5;132;01m}\u001B[39;00m\u001B[38;5;124m_\u001B[39m\u001B[38;5;132;01m{\u001B[39;00mtid\u001B[38;5;132;01m}\u001B[39;00m\u001B[38;5;124m\"\u001B[39m \u001B[38;5;129;01min\u001B[39;00m neighbors:\n\u001B[1;32m     98\u001B[0m         targets[\u001B[38;5;124mf\u001B[39m\u001B[38;5;124m\"\u001B[39m\u001B[38;5;132;01m{\u001B[39;00mv\u001B[38;5;132;01m}\u001B[39;00m\u001B[38;5;124m_\u001B[39m\u001B[38;5;132;01m{\u001B[39;00mtid\u001B[38;5;132;01m}\u001B[39;00m\u001B[38;5;124m\"\u001B[39m] \u001B[38;5;241m=\u001B[39m \u001B[38;5;28;01mNone\u001B[39;00m\n\u001B[1;32m     99\u001B[0m \u001B[38;5;28;01melse\u001B[39;00m:\n",
      "\u001B[0;31mKeyboardInterrupt\u001B[0m: "
     ]
    }
   ],
   "execution_count": 11
  },
  {
   "metadata": {
    "ExecuteTime": {
     "end_time": "2025-02-06T14:46:10.531013Z",
     "start_time": "2025-02-04T09:44:58.138485Z"
    }
   },
   "cell_type": "code",
   "source": "",
   "id": "936456b30143288b",
   "outputs": [],
   "execution_count": null
  }
 ],
 "metadata": {
  "kernelspec": {
   "display_name": "Python 3",
   "language": "python",
   "name": "python3"
  },
  "language_info": {
   "codemirror_mode": {
    "name": "ipython",
    "version": 2
   },
   "file_extension": ".py",
   "mimetype": "text/x-python",
   "name": "python",
   "nbconvert_exporter": "python",
   "pygments_lexer": "ipython2",
   "version": "2.7.6"
  }
 },
 "nbformat": 4,
 "nbformat_minor": 5
}
