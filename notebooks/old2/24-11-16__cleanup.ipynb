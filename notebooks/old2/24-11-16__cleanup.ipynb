{
 "cells": [
  {
   "metadata": {
    "ExecuteTime": {
     "end_time": "2024-11-16T18:36:39.549135Z",
     "start_time": "2024-11-16T18:36:39.544775Z"
    }
   },
   "cell_type": "code",
   "source": [
    "import pickle\n",
    "\n",
    "import networkx as nx\n"
   ],
   "id": "d023ce0219aa6b44",
   "outputs": [],
   "execution_count": 1
  },
  {
   "metadata": {
    "ExecuteTime": {
     "end_time": "2024-11-16T18:36:41.048866Z",
     "start_time": "2024-11-16T18:36:40.512569Z"
    }
   },
   "cell_type": "code",
   "source": [
    "\n",
    "with open(\"/Users/mark/Documents/uni/master/graph-analysis/16TB/graphs_cleaned/08_319_454__2019-08-10_factorized_.pickle\", \"rb\") as f:\n",
    "    graph: nx.MultiGraph = pickle.load(f)"
   ],
   "id": "ae3f88937cb0dc37",
   "outputs": [],
   "execution_count": 2
  },
  {
   "metadata": {
    "ExecuteTime": {
     "end_time": "2024-11-16T18:39:23.920073Z",
     "start_time": "2024-11-16T18:39:23.911425Z"
    }
   },
   "cell_type": "code",
   "source": "next(iter(graph.edges(keys=True)))",
   "id": "9b85b3daea065d60",
   "outputs": [
    {
     "ename": "TypeError",
     "evalue": "OutEdgeView.__call__() got an unexpected keyword argument 'keys'",
     "output_type": "error",
     "traceback": [
      "\u001B[0;31m---------------------------------------------------------------------------\u001B[0m",
      "\u001B[0;31mTypeError\u001B[0m                                 Traceback (most recent call last)",
      "Cell \u001B[0;32mIn[9], line 1\u001B[0m\n\u001B[0;32m----> 1\u001B[0m \u001B[38;5;28mnext\u001B[39m(\u001B[38;5;28miter\u001B[39m(\u001B[43mgraph\u001B[49m\u001B[38;5;241;43m.\u001B[39;49m\u001B[43medges\u001B[49m\u001B[43m(\u001B[49m\u001B[43mkeys\u001B[49m\u001B[38;5;241;43m=\u001B[39;49m\u001B[38;5;28;43;01mTrue\u001B[39;49;00m\u001B[43m)\u001B[49m))\n",
      "\u001B[0;31mTypeError\u001B[0m: OutEdgeView.__call__() got an unexpected keyword argument 'keys'"
     ]
    }
   ],
   "execution_count": 9
  },
  {
   "metadata": {},
   "cell_type": "code",
   "outputs": [],
   "execution_count": null,
   "source": "",
   "id": "715f38b081913520"
  }
 ],
 "metadata": {
  "kernelspec": {
   "display_name": "Python 3",
   "language": "python",
   "name": "python3"
  },
  "language_info": {
   "codemirror_mode": {
    "name": "ipython",
    "version": 2
   },
   "file_extension": ".py",
   "mimetype": "text/x-python",
   "name": "python",
   "nbconvert_exporter": "python",
   "pygments_lexer": "ipython2",
   "version": "2.7.6"
  }
 },
 "nbformat": 4,
 "nbformat_minor": 5
}
