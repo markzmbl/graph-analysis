{
 "cells": [
  {
   "metadata": {
    "jupyter": {
     "is_executing": true
    }
   },
   "cell_type": "code",
   "source": "from cycles.iterator import TransactionGraph",
   "id": "5330ede30c8a564f",
   "outputs": [],
   "execution_count": null
  },
  {
   "metadata": {
    "ExecuteTime": {
     "end_time": "2025-02-13T13:17:32.232532Z",
     "start_time": "2025-02-09T10:46:26.243446Z"
    }
   },
   "cell_type": "code",
   "source": [
    "# Example usage\n",
    "graph = TransactionGraph()\n",
    "graph.add_edge(1, 2, key=10)\n",
    "graph.add_edge(2, 3, key=20)\n",
    "graph.add_edge(3, 4, key=30)\n",
    "\n",
    "time_filtered_graph = graph.time_slice(begin=15, end=31)\n",
    "graph.prune(lower_limit=10)\n",
    "graph.edges(keys=True)"
   ],
   "id": "487616f2fb216254",
   "outputs": [
    {
     "data": {
      "text/plain": [
       "OutMultiEdgeView([(1, 2, 10), (2, 3, 20), (3, 4, 30)])"
      ]
     },
     "execution_count": 22,
     "metadata": {},
     "output_type": "execute_result"
    }
   ],
   "execution_count": 22
  }
 ],
 "metadata": {
  "kernelspec": {
   "display_name": "Python 3",
   "language": "python",
   "name": "python3"
  },
  "language_info": {
   "codemirror_mode": {
    "name": "ipython",
    "version": 2
   },
   "file_extension": ".py",
   "mimetype": "text/x-python",
   "name": "python",
   "nbconvert_exporter": "python",
   "pygments_lexer": "ipython2",
   "version": "2.7.6"
  }
 },
 "nbformat": 4,
 "nbformat_minor": 5
}
