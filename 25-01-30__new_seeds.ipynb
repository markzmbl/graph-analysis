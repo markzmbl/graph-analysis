{
 "cells": [
  {
   "metadata": {
    "jupyter": {
     "is_executing": true
    }
   },
   "cell_type": "code",
   "source": [
    "import numpy as np\n",
    "\n",
    "from utils import iteration_logging\n",
    "from graph_cycle_iterator import GraphCycleIterator\n",
    "from graph_edge_iterator import GraphEdgeIterator\n",
    "from tqdm.auto import tqdm\n",
    "import io\n",
    "import pandas as pd"
   ],
   "id": "a563fcf518400e5c",
   "outputs": [],
   "execution_count": null
  },
  {
   "metadata": {
    "ExecuteTime": {
     "end_time": "2025-01-30T14:30:08.164292Z",
     "start_time": "2025-01-30T14:29:16.381317Z"
    }
   },
   "cell_type": "code",
   "source": [
    "\n",
    "OMEGA = 10\n",
    "BUFFER_COUNT = 2\n",
    "PRUNE_INTERVAL = 1_000\n",
    "END_DATE = \"2019-08-10\"\n",
    "TOTAL_EDGES = len(list(GraphEdgeIterator(end_date=END_DATE, buffer_count=BUFFER_COUNT)))"
   ],
   "id": "359a1156c382a0a8",
   "outputs": [],
   "execution_count": 5
  },
  {
   "metadata": {
    "ExecuteTime": {
     "end_time": "2025-01-30T14:30:08.164792Z",
     "start_time": "2025-01-30T14:29:17.746737Z"
    }
   },
   "cell_type": "code",
   "source": [
    "\n",
    "csv_stream = io.StringIO()\n",
    "\n",
    "wrapped_edges = GraphCycleIterator(\n",
    "    tqdm(  # type: ignore\n",
    "        iteration_logging(\n",
    "            GraphEdgeIterator(end_date=END_DATE, buffer_count=BUFFER_COUNT),\n",
    "            log_stream=csv_stream,\n",
    "        ),\n",
    "        total=TOTAL_EDGES,\n",
    "        desc=\"Edges\",\n",
    "    ),\n",
    "    omega=OMEGA,\n",
    "    prune_interval=PRUNE_INTERVAL\n",
    ")\n",
    "\n",
    "wrapped_edges.run()\n",
    "\n"
   ],
   "id": "2cb6c94202837170",
   "outputs": [
    {
     "data": {
      "text/plain": [
       "Edges:   0%|          | 0/551830 [00:00<?, ?it/s]"
      ],
      "application/vnd.jupyter.widget-view+json": {
       "version_major": 2,
       "version_minor": 0,
       "model_id": "7eba496e08384539a3f99a4b71915d5c"
      }
     },
     "metadata": {},
     "output_type": "display_data"
    },
    {
     "ename": "ValueError",
     "evalue": "IntervalTree: Null Interval objects not allowed in IntervalTree: Interval(8320956, 8320956, [76559813])",
     "output_type": "error",
     "traceback": [
      "\u001B[0;31m---------------------------------------------------------------------------\u001B[0m",
      "\u001B[0;31mValueError\u001B[0m                                Traceback (most recent call last)",
      "Cell \u001B[0;32mIn[6], line 16\u001B[0m\n\u001B[1;32m      1\u001B[0m csv_stream \u001B[38;5;241m=\u001B[39m io\u001B[38;5;241m.\u001B[39mStringIO()\n\u001B[1;32m      3\u001B[0m wrapped_edges \u001B[38;5;241m=\u001B[39m GraphCycleIterator(\n\u001B[1;32m      4\u001B[0m     tqdm(  \u001B[38;5;66;03m# type: ignore\u001B[39;00m\n\u001B[1;32m      5\u001B[0m         iteration_logging(\n\u001B[0;32m   (...)\u001B[0m\n\u001B[1;32m     13\u001B[0m     prune_interval\u001B[38;5;241m=\u001B[39mPRUNE_INTERVAL\n\u001B[1;32m     14\u001B[0m )\n\u001B[0;32m---> 16\u001B[0m \u001B[43mwrapped_edges\u001B[49m\u001B[38;5;241;43m.\u001B[39;49m\u001B[43mrun\u001B[49m\u001B[43m(\u001B[49m\u001B[43m)\u001B[49m\n",
      "File \u001B[0;32m~/Documents/uni/master/graph-analysis/graph_cycle_iterator.py:201\u001B[0m, in \u001B[0;36mGraphCycleIterator.run\u001B[0;34m(self)\u001B[0m\n\u001B[1;32m    198\u001B[0m \u001B[38;5;28;01mfor\u001B[39;00m u, v, current_timestamp \u001B[38;5;129;01min\u001B[39;00m \u001B[38;5;28mself\u001B[39m\u001B[38;5;241m.\u001B[39medge_iterator:\n\u001B[1;32m    199\u001B[0m     \u001B[38;5;28mself\u001B[39m\u001B[38;5;241m.\u001B[39miteration_count \u001B[38;5;241m+\u001B[39m\u001B[38;5;241m=\u001B[39m \u001B[38;5;241m1\u001B[39m  \u001B[38;5;66;03m# Track iteration count\u001B[39;00m\n\u001B[0;32m--> 201\u001B[0m     \u001B[38;5;28;43mself\u001B[39;49m\u001B[38;5;241;43m.\u001B[39;49m\u001B[43m_update_reverse_reachability\u001B[49m\u001B[43m(\u001B[49m\u001B[43mu\u001B[49m\u001B[43m,\u001B[49m\u001B[43m \u001B[49m\u001B[43mv\u001B[49m\u001B[43m,\u001B[49m\u001B[43m \u001B[49m\u001B[43mcurrent_timestamp\u001B[49m\u001B[38;5;241;43m=\u001B[39;49m\u001B[43mcurrent_timestamp\u001B[49m\u001B[43m)\u001B[49m  \u001B[38;5;66;03m# Process new edge\u001B[39;00m\n\u001B[1;32m    203\u001B[0m     \u001B[38;5;28mself\u001B[39m\u001B[38;5;241m.\u001B[39m_combine_seeds(v)  \u001B[38;5;66;03m# Merge enclosed intervals\u001B[39;00m\n\u001B[1;32m    205\u001B[0m     \u001B[38;5;66;03m# # Get expiration\u001B[39;00m\n\u001B[1;32m    206\u001B[0m     \u001B[38;5;66;03m# expiration_time = self._get_latest_seed_interval_end(self.seeds[v], timestamp=current_timestamp)\u001B[39;00m\n\u001B[1;32m    207\u001B[0m     \u001B[38;5;66;03m# Update dynamic graph\u001B[39;00m\n\u001B[0;32m   (...)\u001B[0m\n\u001B[1;32m    215\u001B[0m \n\u001B[1;32m    216\u001B[0m     \u001B[38;5;66;03m# Periodic pruning\u001B[39;00m\n",
      "File \u001B[0;32m~/Documents/uni/master/graph-analysis/graph_cycle_iterator.py:140\u001B[0m, in \u001B[0;36mGraphCycleIterator._update_reverse_reachability\u001B[0;34m(self, u, v, current_timestamp)\u001B[0m\n\u001B[1;32m    137\u001B[0m         \u001B[38;5;28;01mif\u001B[39;00m looped_reverse_reachability:\n\u001B[1;32m    138\u001B[0m             \u001B[38;5;66;03m# Extract the node ids\u001B[39;00m\n\u001B[1;32m    139\u001B[0m             candidates \u001B[38;5;241m=\u001B[39m [candidate \u001B[38;5;28;01mfor\u001B[39;00m _, candidate \u001B[38;5;129;01min\u001B[39;00m looped_reverse_reachability]\n\u001B[0;32m--> 140\u001B[0m             \u001B[38;5;28;43mself\u001B[39;49m\u001B[38;5;241;43m.\u001B[39;49m\u001B[43mseeds\u001B[49m\u001B[43m[\u001B[49m\u001B[43mv\u001B[49m\u001B[43m]\u001B[49m\u001B[43m[\u001B[49m\u001B[43mtime_w\u001B[49m\u001B[43m:\u001B[49m\u001B[43m \u001B[49m\u001B[43mcurrent_timestamp\u001B[49m\u001B[43m]\u001B[49m \u001B[38;5;241m=\u001B[39m candidates\n\u001B[1;32m    141\u001B[0m         to_delete\u001B[38;5;241m.\u001B[39mappend((time_w, v))\n\u001B[1;32m    143\u001B[0m \u001B[38;5;66;03m# Remove to avoid duplicate output\u001B[39;00m\n",
      "File \u001B[0;32m~/Documents/uni/master/graph-analysis/.venv/lib/python3.10/site-packages/intervaltree/intervaltree.py:1060\u001B[0m, in \u001B[0;36mIntervalTree.__setitem__\u001B[0;34m(self, index, value)\u001B[0m\n\u001B[1;32m   1050\u001B[0m \u001B[38;5;28;01mdef\u001B[39;00m \u001B[38;5;21m__setitem__\u001B[39m(\u001B[38;5;28mself\u001B[39m, index, value):\n\u001B[1;32m   1051\u001B[0m \u001B[38;5;250m    \u001B[39m\u001B[38;5;124;03m\"\"\"\u001B[39;00m\n\u001B[1;32m   1052\u001B[0m \u001B[38;5;124;03m    Adds a new interval to the tree. A shortcut for\u001B[39;00m\n\u001B[1;32m   1053\u001B[0m \u001B[38;5;124;03m    add(Interval(index.start, index.stop, value)).\u001B[39;00m\n\u001B[0;32m   (...)\u001B[0m\n\u001B[1;32m   1058\u001B[0m \u001B[38;5;124;03m    Completes in O(log n) time.\u001B[39;00m\n\u001B[1;32m   1059\u001B[0m \u001B[38;5;124;03m    \"\"\"\u001B[39;00m\n\u001B[0;32m-> 1060\u001B[0m     \u001B[38;5;28;43mself\u001B[39;49m\u001B[38;5;241;43m.\u001B[39;49m\u001B[43maddi\u001B[49m\u001B[43m(\u001B[49m\u001B[43mindex\u001B[49m\u001B[38;5;241;43m.\u001B[39;49m\u001B[43mstart\u001B[49m\u001B[43m,\u001B[49m\u001B[43m \u001B[49m\u001B[43mindex\u001B[49m\u001B[38;5;241;43m.\u001B[39;49m\u001B[43mstop\u001B[49m\u001B[43m,\u001B[49m\u001B[43m \u001B[49m\u001B[43mvalue\u001B[49m\u001B[43m)\u001B[49m\n",
      "File \u001B[0;32m~/Documents/uni/master/graph-analysis/.venv/lib/python3.10/site-packages/intervaltree/intervaltree.py:343\u001B[0m, in \u001B[0;36mIntervalTree.addi\u001B[0;34m(self, begin, end, data)\u001B[0m\n\u001B[1;32m    337\u001B[0m \u001B[38;5;28;01mdef\u001B[39;00m \u001B[38;5;21maddi\u001B[39m(\u001B[38;5;28mself\u001B[39m, begin, end, data\u001B[38;5;241m=\u001B[39m\u001B[38;5;28;01mNone\u001B[39;00m):\n\u001B[1;32m    338\u001B[0m \u001B[38;5;250m    \u001B[39m\u001B[38;5;124;03m\"\"\"\u001B[39;00m\n\u001B[1;32m    339\u001B[0m \u001B[38;5;124;03m    Shortcut for add(Interval(begin, end, data)).\u001B[39;00m\n\u001B[1;32m    340\u001B[0m \n\u001B[1;32m    341\u001B[0m \u001B[38;5;124;03m    Completes in O(log n) time.\u001B[39;00m\n\u001B[1;32m    342\u001B[0m \u001B[38;5;124;03m    \"\"\"\u001B[39;00m\n\u001B[0;32m--> 343\u001B[0m     \u001B[38;5;28;01mreturn\u001B[39;00m \u001B[38;5;28;43mself\u001B[39;49m\u001B[38;5;241;43m.\u001B[39;49m\u001B[43madd\u001B[49m\u001B[43m(\u001B[49m\u001B[43mInterval\u001B[49m\u001B[43m(\u001B[49m\u001B[43mbegin\u001B[49m\u001B[43m,\u001B[49m\u001B[43m \u001B[49m\u001B[43mend\u001B[49m\u001B[43m,\u001B[49m\u001B[43m \u001B[49m\u001B[43mdata\u001B[49m\u001B[43m)\u001B[49m\u001B[43m)\u001B[49m\n",
      "File \u001B[0;32m~/Documents/uni/master/graph-analysis/.venv/lib/python3.10/site-packages/intervaltree/intervaltree.py:324\u001B[0m, in \u001B[0;36mIntervalTree.add\u001B[0;34m(self, interval)\u001B[0m\n\u001B[1;32m    321\u001B[0m     \u001B[38;5;28;01mreturn\u001B[39;00m\n\u001B[1;32m    323\u001B[0m \u001B[38;5;28;01mif\u001B[39;00m interval\u001B[38;5;241m.\u001B[39mis_null():\n\u001B[0;32m--> 324\u001B[0m     \u001B[38;5;28;01mraise\u001B[39;00m \u001B[38;5;167;01mValueError\u001B[39;00m(\n\u001B[1;32m    325\u001B[0m         \u001B[38;5;124m\"\u001B[39m\u001B[38;5;124mIntervalTree: Null Interval objects not allowed in IntervalTree:\u001B[39m\u001B[38;5;124m\"\u001B[39m\n\u001B[1;32m    326\u001B[0m         \u001B[38;5;124m\"\u001B[39m\u001B[38;5;124m \u001B[39m\u001B[38;5;132;01m{0}\u001B[39;00m\u001B[38;5;124m\"\u001B[39m\u001B[38;5;241m.\u001B[39mformat(interval)\n\u001B[1;32m    327\u001B[0m     )\n\u001B[1;32m    329\u001B[0m \u001B[38;5;28;01mif\u001B[39;00m \u001B[38;5;129;01mnot\u001B[39;00m \u001B[38;5;28mself\u001B[39m\u001B[38;5;241m.\u001B[39mtop_node:\n\u001B[1;32m    330\u001B[0m     \u001B[38;5;28mself\u001B[39m\u001B[38;5;241m.\u001B[39mtop_node \u001B[38;5;241m=\u001B[39m Node\u001B[38;5;241m.\u001B[39mfrom_interval(interval)\n",
      "\u001B[0;31mValueError\u001B[0m: IntervalTree: Null Interval objects not allowed in IntervalTree: Interval(8320956, 8320956, [76559813])"
     ]
    }
   ],
   "execution_count": 6
  },
  {
   "metadata": {},
   "cell_type": "code",
   "source": [
    "csv_stream.seek(0)\n",
    "df = pd.read_csv(csv_stream)\n",
    "df = df.set_index(\"time_seconds\")\n",
    "df.plot(subplots=True)"
   ],
   "id": "c9ff512c6ce76a84",
   "outputs": [],
   "execution_count": null
  },
  {
   "metadata": {
    "ExecuteTime": {
     "end_time": "2025-01-30T14:30:08.168330Z",
     "start_time": "2025-01-30T11:17:47.881925Z"
    }
   },
   "cell_type": "code",
   "source": "sum(len(intervals) for intervals in wrapped_edges.seeds.values())",
   "id": "275fb48b013f803e",
   "outputs": [
    {
     "data": {
      "text/plain": [
       "64"
      ]
     },
     "execution_count": 5,
     "metadata": {},
     "output_type": "execute_result"
    }
   ],
   "execution_count": 5
  },
  {
   "metadata": {
    "ExecuteTime": {
     "end_time": "2025-01-30T14:30:08.168692Z",
     "start_time": "2025-01-30T11:17:48.067189Z"
    }
   },
   "cell_type": "code",
   "source": "",
   "id": "5d58f1bec1fcab37",
   "outputs": [],
   "execution_count": null
  }
 ],
 "metadata": {
  "kernelspec": {
   "display_name": "Python 3",
   "language": "python",
   "name": "python3"
  },
  "language_info": {
   "codemirror_mode": {
    "name": "ipython",
    "version": 2
   },
   "file_extension": ".py",
   "mimetype": "text/x-python",
   "name": "python",
   "nbconvert_exporter": "python",
   "pygments_lexer": "ipython2",
   "version": "2.7.6"
  }
 },
 "nbformat": 4,
 "nbformat_minor": 5
}
