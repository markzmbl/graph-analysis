{
 "cells": [
  {
   "cell_type": "code",
   "execution_count": 1,
   "id": "initial_id",
   "metadata": {
    "collapsed": true,
    "ExecuteTime": {
     "end_time": "2024-09-26T07:12:47.705492Z",
     "start_time": "2024-09-26T07:12:47.650361Z"
    }
   },
   "outputs": [],
   "source": [
    "from algorithms import chordless_temporal_cycles"
   ]
  },
  {
   "cell_type": "code",
   "outputs": [],
   "source": [
    "import pickle\n",
    "import networkx_temporal as tx\n",
    "\n",
    "with open(\"20_278_946__2024-07-11.pickle\", \"rb\") as graph_pickle:\n",
    "    graph = pickle.load(graph_pickle)"
   ],
   "metadata": {
    "collapsed": false,
    "ExecuteTime": {
     "end_time": "2024-09-26T07:12:49.000406Z",
     "start_time": "2024-09-26T07:12:47.706667Z"
    }
   },
   "id": "ed8f6769bbd2a040",
   "execution_count": 2
  },
  {
   "cell_type": "code",
   "outputs": [
    {
     "ename": "KeyboardInterrupt",
     "evalue": "",
     "output_type": "error",
     "traceback": [
      "\u001B[0;31m---------------------------------------------------------------------------\u001B[0m",
      "\u001B[0;31mKeyboardInterrupt\u001B[0m                         Traceback (most recent call last)",
      "Cell \u001B[0;32mIn[3], line 3\u001B[0m\n\u001B[1;32m      1\u001B[0m \u001B[38;5;28;01mimport\u001B[39;00m \u001B[38;5;21;01mnetworkx\u001B[39;00m \u001B[38;5;28;01mas\u001B[39;00m \u001B[38;5;21;01mnx\u001B[39;00m\n\u001B[1;32m      2\u001B[0m graph_adjacency_df \u001B[38;5;241m=\u001B[39m nx\u001B[38;5;241m.\u001B[39mto_pandas_edgelist(graph)\u001B[38;5;241m.\u001B[39mset_index([\u001B[38;5;124m\"\u001B[39m\u001B[38;5;124msource\u001B[39m\u001B[38;5;124m\"\u001B[39m, \u001B[38;5;124m\"\u001B[39m\u001B[38;5;124mtarget\u001B[39m\u001B[38;5;124m\"\u001B[39m, \u001B[38;5;124m\"\u001B[39m\u001B[38;5;124mtime\u001B[39m\u001B[38;5;124m\"\u001B[39m])\u001B[38;5;241m.\u001B[39msort_index()\n\u001B[0;32m----> 3\u001B[0m graph_dynamic_df \u001B[38;5;241m=\u001B[39m \u001B[43mnx\u001B[49m\u001B[38;5;241;43m.\u001B[39;49m\u001B[43mto_pandas_edgelist\u001B[49m\u001B[43m(\u001B[49m\u001B[43mgraph\u001B[49m\u001B[43m)\u001B[49m\u001B[38;5;241m.\u001B[39mset_index([\u001B[38;5;124m\"\u001B[39m\u001B[38;5;124msource\u001B[39m\u001B[38;5;124m\"\u001B[39m, \u001B[38;5;124m\"\u001B[39m\u001B[38;5;124mtime\u001B[39m\u001B[38;5;124m\"\u001B[39m, \u001B[38;5;124m\"\u001B[39m\u001B[38;5;124mtarget\u001B[39m\u001B[38;5;124m\"\u001B[39m])\u001B[38;5;241m.\u001B[39msort_index()\n",
      "File \u001B[0;32m<class 'networkx.utils.decorators.argmap'> compilation 4:3\u001B[0m, in \u001B[0;36margmap_to_pandas_edgelist_1\u001B[0;34m(G, source, target, nodelist, dtype, edge_key, backend, **backend_kwargs)\u001B[0m\n\u001B[1;32m      1\u001B[0m \u001B[38;5;28;01mimport\u001B[39;00m \u001B[38;5;21;01mbz2\u001B[39;00m\n\u001B[1;32m      2\u001B[0m \u001B[38;5;28;01mimport\u001B[39;00m \u001B[38;5;21;01mcollections\u001B[39;00m\n\u001B[0;32m----> 3\u001B[0m \u001B[38;5;28;01mimport\u001B[39;00m \u001B[38;5;21;01mgzip\u001B[39;00m\n\u001B[1;32m      4\u001B[0m \u001B[38;5;28;01mimport\u001B[39;00m \u001B[38;5;21;01minspect\u001B[39;00m\n\u001B[1;32m      5\u001B[0m \u001B[38;5;28;01mimport\u001B[39;00m \u001B[38;5;21;01mitertools\u001B[39;00m\n",
      "File \u001B[0;32m~/graph-analysis/venv/lib/python3.12/site-packages/networkx/utils/backends.py:633\u001B[0m, in \u001B[0;36m_dispatchable.__call__\u001B[0;34m(self, backend, *args, **kwargs)\u001B[0m\n\u001B[1;32m    628\u001B[0m \u001B[38;5;250m\u001B[39m\u001B[38;5;124;03m\"\"\"Returns the result of the original function, or the backend function if\u001B[39;00m\n\u001B[1;32m    629\u001B[0m \u001B[38;5;124;03mthe backend is specified and that backend implements `func`.\"\"\"\u001B[39;00m\n\u001B[1;32m    631\u001B[0m \u001B[38;5;28;01mif\u001B[39;00m \u001B[38;5;129;01mnot\u001B[39;00m backends:\n\u001B[1;32m    632\u001B[0m     \u001B[38;5;66;03m# Fast path if no backends are installed\u001B[39;00m\n\u001B[0;32m--> 633\u001B[0m     \u001B[38;5;28;01mreturn\u001B[39;00m \u001B[38;5;28;43mself\u001B[39;49m\u001B[38;5;241;43m.\u001B[39;49m\u001B[43morig_func\u001B[49m\u001B[43m(\u001B[49m\u001B[38;5;241;43m*\u001B[39;49m\u001B[43margs\u001B[49m\u001B[43m,\u001B[49m\u001B[43m \u001B[49m\u001B[38;5;241;43m*\u001B[39;49m\u001B[38;5;241;43m*\u001B[39;49m\u001B[43mkwargs\u001B[49m\u001B[43m)\u001B[49m\n\u001B[1;32m    635\u001B[0m \u001B[38;5;66;03m# Use `backend_name` in this function instead of `backend`\u001B[39;00m\n\u001B[1;32m    636\u001B[0m backend_name \u001B[38;5;241m=\u001B[39m backend\n",
      "File \u001B[0;32m~/graph-analysis/venv/lib/python3.12/site-packages/networkx/convert_matrix.py:294\u001B[0m, in \u001B[0;36mto_pandas_edgelist\u001B[0;34m(G, source, target, nodelist, dtype, edge_key)\u001B[0m\n\u001B[1;32m    291\u001B[0m source_nodes \u001B[38;5;241m=\u001B[39m [s \u001B[38;5;28;01mfor\u001B[39;00m s, _, _ \u001B[38;5;129;01min\u001B[39;00m edgelist]\n\u001B[1;32m    292\u001B[0m target_nodes \u001B[38;5;241m=\u001B[39m [t \u001B[38;5;28;01mfor\u001B[39;00m _, t, _ \u001B[38;5;129;01min\u001B[39;00m edgelist]\n\u001B[0;32m--> 294\u001B[0m all_attrs \u001B[38;5;241m=\u001B[39m \u001B[38;5;28;43mset\u001B[39;49m\u001B[43m(\u001B[49m\u001B[43m)\u001B[49m\u001B[38;5;241;43m.\u001B[39;49m\u001B[43munion\u001B[49m\u001B[43m(\u001B[49m\u001B[38;5;241;43m*\u001B[39;49m\u001B[43m(\u001B[49m\u001B[43md\u001B[49m\u001B[38;5;241;43m.\u001B[39;49m\u001B[43mkeys\u001B[49m\u001B[43m(\u001B[49m\u001B[43m)\u001B[49m\u001B[43m \u001B[49m\u001B[38;5;28;43;01mfor\u001B[39;49;00m\u001B[43m \u001B[49m\u001B[43m_\u001B[49m\u001B[43m,\u001B[49m\u001B[43m \u001B[49m\u001B[43m_\u001B[49m\u001B[43m,\u001B[49m\u001B[43m \u001B[49m\u001B[43md\u001B[49m\u001B[43m \u001B[49m\u001B[38;5;129;43;01min\u001B[39;49;00m\u001B[43m \u001B[49m\u001B[43medgelist\u001B[49m\u001B[43m)\u001B[49m\u001B[43m)\u001B[49m\n\u001B[1;32m    295\u001B[0m \u001B[38;5;28;01mif\u001B[39;00m source \u001B[38;5;129;01min\u001B[39;00m all_attrs:\n\u001B[1;32m    296\u001B[0m     \u001B[38;5;28;01mraise\u001B[39;00m nx\u001B[38;5;241m.\u001B[39mNetworkXError(\u001B[38;5;124mf\u001B[39m\u001B[38;5;124m\"\u001B[39m\u001B[38;5;124mSource name \u001B[39m\u001B[38;5;132;01m{\u001B[39;00msource\u001B[38;5;132;01m!r}\u001B[39;00m\u001B[38;5;124m is an edge attr name\u001B[39m\u001B[38;5;124m\"\u001B[39m)\n",
      "File \u001B[0;32m~/graph-analysis/venv/lib/python3.12/site-packages/networkx/convert_matrix.py:294\u001B[0m, in \u001B[0;36m<genexpr>\u001B[0;34m(.0)\u001B[0m\n\u001B[1;32m    291\u001B[0m source_nodes \u001B[38;5;241m=\u001B[39m [s \u001B[38;5;28;01mfor\u001B[39;00m s, _, _ \u001B[38;5;129;01min\u001B[39;00m edgelist]\n\u001B[1;32m    292\u001B[0m target_nodes \u001B[38;5;241m=\u001B[39m [t \u001B[38;5;28;01mfor\u001B[39;00m _, t, _ \u001B[38;5;129;01min\u001B[39;00m edgelist]\n\u001B[0;32m--> 294\u001B[0m all_attrs \u001B[38;5;241m=\u001B[39m \u001B[38;5;28mset\u001B[39m()\u001B[38;5;241m.\u001B[39munion(\u001B[38;5;241m*\u001B[39m(d\u001B[38;5;241m.\u001B[39mkeys() \u001B[38;5;28;01mfor\u001B[39;00m _, _, d \u001B[38;5;129;01min\u001B[39;00m edgelist))\n\u001B[1;32m    295\u001B[0m \u001B[38;5;28;01mif\u001B[39;00m source \u001B[38;5;129;01min\u001B[39;00m all_attrs:\n\u001B[1;32m    296\u001B[0m     \u001B[38;5;28;01mraise\u001B[39;00m nx\u001B[38;5;241m.\u001B[39mNetworkXError(\u001B[38;5;124mf\u001B[39m\u001B[38;5;124m\"\u001B[39m\u001B[38;5;124mSource name \u001B[39m\u001B[38;5;132;01m{\u001B[39;00msource\u001B[38;5;132;01m!r}\u001B[39;00m\u001B[38;5;124m is an edge attr name\u001B[39m\u001B[38;5;124m\"\u001B[39m)\n",
      "File \u001B[0;32m~/graph-analysis/venv/lib/python3.12/site-packages/networkx/classes/reportviews.py:952\u001B[0m, in \u001B[0;36m<genexpr>\u001B[0;34m(.0)\u001B[0m\n\u001B[1;32m    948\u001B[0m \u001B[38;5;28;01mdef\u001B[39;00m \u001B[38;5;21m__iter__\u001B[39m(\u001B[38;5;28mself\u001B[39m):\n\u001B[1;32m    949\u001B[0m     \u001B[38;5;28;01mreturn\u001B[39;00m (\n\u001B[1;32m    950\u001B[0m         \u001B[38;5;28mself\u001B[39m\u001B[38;5;241m.\u001B[39m_report(n, nbr, k, dd)\n\u001B[1;32m    951\u001B[0m         \u001B[38;5;28;01mfor\u001B[39;00m n, nbrs \u001B[38;5;129;01min\u001B[39;00m \u001B[38;5;28mself\u001B[39m\u001B[38;5;241m.\u001B[39m_nodes_nbrs()\n\u001B[0;32m--> 952\u001B[0m         \u001B[38;5;28;01mfor\u001B[39;00m nbr, kd \u001B[38;5;129;01min\u001B[39;00m \u001B[43mnbrs\u001B[49m\u001B[38;5;241;43m.\u001B[39;49m\u001B[43mitems\u001B[49m\u001B[43m(\u001B[49m\u001B[43m)\u001B[49m\n\u001B[1;32m    953\u001B[0m         \u001B[38;5;28;01mfor\u001B[39;00m k, dd \u001B[38;5;129;01min\u001B[39;00m kd\u001B[38;5;241m.\u001B[39mitems()\n\u001B[1;32m    954\u001B[0m     )\n",
      "\u001B[0;31mKeyboardInterrupt\u001B[0m: "
     ]
    }
   ],
   "source": [
    "import networkx as nx\n",
    "graph_adjacency_df = nx.to_pandas_edgelist(graph).set_index([\"source\", \"target\", \"time\"]).sort_index()\n",
    "graph_dynamic_df = nx.to_pandas_edgelist(graph).set_index([\"source\", \"time\", \"target\"]).sort_index()\n"
   ],
   "metadata": {
    "collapsed": false,
    "ExecuteTime": {
     "end_time": "2024-09-26T07:12:56.397492Z",
     "start_time": "2024-09-26T07:12:49.001053Z"
    }
   },
   "id": "c1a70eb590356577",
   "execution_count": 3
  },
  {
   "cell_type": "code",
   "outputs": [],
   "source": [
    "from tqdm import tqdm\n",
    "for u, v, time in tqdm(graph_adjacency_df.index):\n",
    "    # Loops\n",
    "    if u == v:\n",
    "        pass\n",
    "        # yield [(u, v, time)]\n",
    "        continue\n",
    "    # Digons\n",
    "    try:\n",
    "        digon_edges = graph_adjacency_df.loc[(v, u)]\n",
    "        reverse_preceding_edges = digon_edges[digon_edges.index > time]\n",
    "        if not reverse_preceding_edges.empty:\n",
    "            for time_back in reverse_preceding_edges.index:\n",
    "                # yield [(u, v, time), (v, u, time_back)]\n",
    "                pass\n",
    "        continue\n",
    "    except KeyError:\n",
    "        pass\n",
    "    # Triangles\n",
    "    try:\n",
    "        traverse_edges = graph_dynamic_df.loc[v]\n",
    "        traverse_predecing_edges = traverse_edges[traverse_edges.index.get_level_values(\"time\") > time]\n",
    "        if not traverse_predecing_edges.empty:\n",
    "            for time_traverse, w in traverse_predecing_edges.index:\n",
    "                try:\n",
    "                    reverse_edges = graph_adjacency_df[(w, u)]\n",
    "                    reverse_preceding_edges = reverse_edges[reverse_edges.index > time_traverse]\n",
    "                    if not reverse_preceding_edges.empty:\n",
    "                        for time_back in reverse_preceding_edges.index:\n",
    "                            # yield [(u, v, time), (v, w, time_traverse), (w, u, time_back)]\n",
    "                            pass\n",
    "                except KeyError:\n",
    "                    pass\n",
    "    except KeyError:\n",
    "        pass\n"
   ],
   "metadata": {
    "collapsed": false
   },
   "id": "d7212226b90ffa99",
   "execution_count": null
  },
  {
   "cell_type": "code",
   "outputs": [],
   "source": [
    "for cycle in chordless_temporal_cycles(graph_df, 5):\n",
    "    pass"
   ],
   "metadata": {
    "collapsed": false
   },
   "id": "b37a4de00865a556",
   "execution_count": null
  },
  {
   "cell_type": "code",
   "outputs": [],
   "source": [
    "print(graph.adj)"
   ],
   "metadata": {
    "collapsed": false
   },
   "id": "a239beda7afa99bf",
   "execution_count": null
  }
 ],
 "metadata": {
  "kernelspec": {
   "display_name": "Python 3",
   "language": "python",
   "name": "python3"
  },
  "language_info": {
   "codemirror_mode": {
    "name": "ipython",
    "version": 2
   },
   "file_extension": ".py",
   "mimetype": "text/x-python",
   "name": "python",
   "nbconvert_exporter": "python",
   "pygments_lexer": "ipython2",
   "version": "2.7.6"
  }
 },
 "nbformat": 4,
 "nbformat_minor": 5
}
