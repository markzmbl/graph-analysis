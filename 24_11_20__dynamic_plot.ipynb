{
 "cells": [
  {
   "cell_type": "code",
   "execution_count": 1,
   "id": "74f8a2dceb65a349",
   "metadata": {
    "ExecuteTime": {
     "end_time": "2024-11-20T17:49:23.175592Z",
     "start_time": "2024-11-20T17:49:23.043886Z"
    }
   },
   "outputs": [],
   "source": [
    "from utils import GraphEdgeIterator, generate_seeds, iteration_logging\n",
    "from tqdm.notebook import tqdm\n",
    "import sys"
   ]
  },
  {
   "cell_type": "code",
   "execution_count": 2,
   "id": "b6a0e3c5-9e15-449d-9f99-3d8090e9cf52",
   "metadata": {},
   "outputs": [],
   "source": [
    "edges = list(GraphEdgeIterator())"
   ]
  },
  {
   "cell_type": "code",
   "execution_count": 8,
   "id": "04f8cd3f-68f3-4ed2-aec3-0b637bd72bac",
   "metadata": {},
   "outputs": [
    {
     "data": {
      "application/vnd.jupyter.widget-view+json": {
       "model_id": "21111a78a991444fb87e1efd8f54fd4b",
       "version_major": 2,
       "version_minor": 0
      },
      "text/plain": [
       "Edges 2:   0%|          | 0/2912276 [00:00<?, ?it/s]"
      ]
     },
     "metadata": {},
     "output_type": "display_data"
    },
    {
     "data": {
      "application/vnd.jupyter.widget-view+json": {
       "model_id": "e76e59f8568740a99fe3db67e7c02b8b",
       "version_major": 2,
       "version_minor": 0
      },
      "text/plain": [
       "Edges 5:   0%|          | 0/2912276 [00:01<?, ?it/s]"
      ]
     },
     "metadata": {},
     "output_type": "display_data"
    }
   ],
   "source": [
    "for buffer_count in (2, 5):\n",
    "    list(tqdm(GraphEdgeIterator(buffer_count=buffer_count), total=len(edges), desc=f\"Edges {buffer_count}\"))"
   ]
  },
  {
   "cell_type": "code",
   "execution_count": 9,
   "id": "aae91bab6563bebc",
   "metadata": {
    "ExecuteTime": {
     "end_time": "2024-11-20T17:48:57.650665Z",
     "start_time": "2024-11-20T17:48:49.094088Z"
    }
   },
   "outputs": [
    {
     "data": {
      "application/vnd.jupyter.widget-view+json": {
       "model_id": "70c14e01d8c2472485a17cdcfa6910b1",
       "version_major": 2,
       "version_minor": 0
      },
      "text/plain": [
       "Edges:   0%|          | 0/2912276 [00:00<?, ?it/s]"
      ]
     },
     "metadata": {},
     "output_type": "display_data"
    }
   ],
   "source": [
    "edges = tqdm(list(GraphEdgeIterator()), desc=\"Edges\")"
   ]
  },
  {
   "cell_type": "code",
   "execution_count": null,
   "id": "427de5f491c0215c",
   "metadata": {
    "ExecuteTime": {
     "end_time": "2024-11-20T17:49:05.772869Z",
     "start_time": "2024-11-20T17:48:57.684660Z"
    }
   },
   "outputs": [
    {
     "data": {
      "application/vnd.jupyter.widget-view+json": {
       "model_id": "d9de2dacc79a473886f614af7a81f2ac",
       "version_major": 2,
       "version_minor": 0
      },
      "text/plain": [
       "FigureWidget({\n",
       "    'data': [{'mode': 'lines',\n",
       "              'name': 'Iterations',\n",
       "              'type': 'scatter',\n",
       "              'uid': '2520ae52-1f07-486e-9d1f-eb3ed5ca1fcc',\n",
       "              'x': [],\n",
       "              'y': []}],\n",
       "    'layout': {'template': '...', 'xaxis': {'title': {'text': 'seconds'}}, 'yaxis': {'title': {'text': 'iterations'}}}\n",
       "})"
      ]
     },
     "metadata": {},
     "output_type": "display_data"
    },
    {
     "data": {
      "application/vnd.jupyter.widget-view+json": {
       "model_id": "5c1c6965631b4e43825d7c6acd6c26c4",
       "version_major": 2,
       "version_minor": 0
      },
      "text/plain": [
       "FigureWidget({\n",
       "    'data': [{'mode': 'lines',\n",
       "              'name': 'Iteration rate',\n",
       "              'type': 'scatter',\n",
       "              'uid': '6c454c07-672f-4f69-aa44-f8098742c6fb',\n",
       "              'x': [],\n",
       "              'y': []}],\n",
       "    'layout': {'template': '...', 'xaxis': {'title': {'text': 'seconds'}}, 'yaxis': {'title': {'text': 'iteration rate'}}}\n",
       "})"
      ]
     },
     "metadata": {},
     "output_type": "display_data"
    },
    {
     "data": {
      "application/vnd.jupyter.widget-view+json": {
       "model_id": "46871e26909b44c79090867a35a8fe99",
       "version_major": 2,
       "version_minor": 0
      },
      "text/plain": [
       "FigureWidget({\n",
       "    'data': [{'mode': 'lines',\n",
       "              'name': 'Memory usage',\n",
       "              'type': 'scatter',\n",
       "              'uid': '95e2eb4d-94e9-4618-a72e-6696334bd39d',\n",
       "              'x': [],\n",
       "              'y': []}],\n",
       "    'layout': {'template': '...',\n",
       "               'xaxis': {'title': {'text': 'seconds'}},\n",
       "               'yaxis': {'title': {'text': 'memory usage (GB)'}}}\n",
       "})"
      ]
     },
     "metadata": {},
     "output_type": "display_data"
    }
   ],
   "source": [
    "seeds = list(iteration_logging(generate_seeds(edges, omega=10), plot=True))"
   ]
  },
  {
   "cell_type": "code",
   "execution_count": null,
   "id": "bcb8bf2a963b8958",
   "metadata": {},
   "outputs": [],
   "source": []
  }
 ],
 "metadata": {
  "kernelspec": {
   "display_name": "Python 3 (ipykernel)",
   "language": "python",
   "name": "python3"
  },
  "language_info": {
   "codemirror_mode": {
    "name": "ipython",
    "version": 3
   },
   "file_extension": ".py",
   "mimetype": "text/x-python",
   "name": "python",
   "nbconvert_exporter": "python",
   "pygments_lexer": "ipython3",
   "version": "3.10.15"
  }
 },
 "nbformat": 4,
 "nbformat_minor": 5
}
