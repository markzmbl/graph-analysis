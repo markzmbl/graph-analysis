#%%
import pickle

import networkx as nx
from algorithms import simple_temporal_cycles
from tqdm.notebook import tqdm

from utils import iteration_logging, get_drive

#%%
with open("../16TB/graphs/10_002_872__2020-05-05.pickle", "rb") as graph_pickle:
   graph = pickle.load(graph_pickle)
   
#%%
for length_bound in range(1, 8):
    filename = f"20_278_946__2024__{length_bound}.csv"
    for cycle in simple_temporal_cycles(graph, length_bound=length_bound):
        pass